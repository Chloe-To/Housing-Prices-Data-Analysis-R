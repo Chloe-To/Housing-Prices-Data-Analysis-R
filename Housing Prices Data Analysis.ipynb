{
  "nbformat": 4,
  "nbformat_minor": 0,
  "metadata": {
    "colab": {
      "provenance": []
    },
    "kernelspec": {
      "name": "ir",
      "display_name": "R"
    },
    "language_info": {
      "name": "R"
    }
  },
  "cells": [
    {
      "cell_type": "code",
      "source": [
        "library(repr)\n",
        "library(dplyr)\n",
        "library(corrplot)\n",
        "library(ggplot2)\n",
        "library(stats)\n",
        "library(car)\n",
        "library(ggpubr)\n",
        "library(PerformanceAnalytics)"
      ],
      "metadata": {
        "colab": {
          "base_uri": "https://localhost:8080/"
        },
        "id": "5kKXg03jA48O",
        "outputId": "b9068cc7-a287-4209-dcc0-404cfc8b1ed6"
      },
      "execution_count": null,
      "outputs": [
        {
          "output_type": "stream",
          "name": "stderr",
          "text": [
            "\n",
            "Attaching package: ‘dplyr’\n",
            "\n",
            "\n",
            "The following objects are masked from ‘package:stats’:\n",
            "\n",
            "    filter, lag\n",
            "\n",
            "\n",
            "The following objects are masked from ‘package:base’:\n",
            "\n",
            "    intersect, setdiff, setequal, union\n",
            "\n",
            "\n",
            "corrplot 0.92 loaded\n",
            "\n",
            "Loading required package: carData\n",
            "\n",
            "\n",
            "Attaching package: ‘car’\n",
            "\n",
            "\n",
            "The following object is masked from ‘package:dplyr’:\n",
            "\n",
            "    recode\n",
            "\n",
            "\n",
            "Loading required package: xts\n",
            "\n",
            "Loading required package: zoo\n",
            "\n",
            "\n",
            "Attaching package: ‘zoo’\n",
            "\n",
            "\n",
            "The following objects are masked from ‘package:base’:\n",
            "\n",
            "    as.Date, as.Date.numeric\n",
            "\n",
            "\n",
            "\n",
            "######################### Warning from 'xts' package ##########################\n",
            "#                                                                             #\n",
            "# The dplyr lag() function breaks how base R's lag() function is supposed to  #\n",
            "# work, which breaks lag(my_xts). Calls to lag(my_xts) that you type or       #\n",
            "# source() into this session won't work correctly.                            #\n",
            "#                                                                             #\n",
            "# Use stats::lag() to make sure you're not using dplyr::lag(), or you can add #\n",
            "# conflictRules('dplyr', exclude = 'lag') to your .Rprofile to stop           #\n",
            "# dplyr from breaking base R's lag() function.                                #\n",
            "#                                                                             #\n",
            "# Code in packages is not affected. It's protected by R's namespace mechanism #\n",
            "# Set `options(xts.warn_dplyr_breaks_lag = FALSE)` to suppress this warning.  #\n",
            "#                                                                             #\n",
            "###############################################################################\n",
            "\n",
            "\n",
            "Attaching package: ‘xts’\n",
            "\n",
            "\n",
            "The following objects are masked from ‘package:dplyr’:\n",
            "\n",
            "    first, last\n",
            "\n",
            "\n",
            "\n",
            "Attaching package: ‘PerformanceAnalytics’\n",
            "\n",
            "\n",
            "The following object is masked from ‘package:graphics’:\n",
            "\n",
            "    legend\n",
            "\n",
            "\n"
          ]
        }
      ]
    },
    {
      "cell_type": "code",
      "execution_count": null,
      "metadata": {
        "id": "l09Vfn_QyiUl"
      },
      "outputs": [],
      "source": [
        "data <- read.csv(\"/content/HousePrices/train.csv\")"
      ]
    },
    {
      "cell_type": "code",
      "source": [
        "summary(data)"
      ],
      "metadata": {
        "id": "93nFmKDvzLnP",
        "colab": {
          "base_uri": "https://localhost:8080/",
          "height": 1000
        },
        "outputId": "c4ac3790-a649-4a61-c28e-2a2d9611085a"
      },
      "execution_count": null,
      "outputs": [
        {
          "output_type": "display_data",
          "data": {
            "text/plain": [
              "       Id           MSSubClass      MSZoning          LotFrontage    \n",
              " Min.   :   1.0   Min.   : 20.0   Length:1460        Min.   : 21.00  \n",
              " 1st Qu.: 365.8   1st Qu.: 20.0   Class :character   1st Qu.: 59.00  \n",
              " Median : 730.5   Median : 50.0   Mode  :character   Median : 69.00  \n",
              " Mean   : 730.5   Mean   : 56.9                      Mean   : 70.05  \n",
              " 3rd Qu.:1095.2   3rd Qu.: 70.0                      3rd Qu.: 80.00  \n",
              " Max.   :1460.0   Max.   :190.0                      Max.   :313.00  \n",
              "                                                     NA's   :259     \n",
              "    LotArea          Street             Alley             LotShape        \n",
              " Min.   :  1300   Length:1460        Length:1460        Length:1460       \n",
              " 1st Qu.:  7554   Class :character   Class :character   Class :character  \n",
              " Median :  9478   Mode  :character   Mode  :character   Mode  :character  \n",
              " Mean   : 10517                                                           \n",
              " 3rd Qu.: 11602                                                           \n",
              " Max.   :215245                                                           \n",
              "                                                                          \n",
              " LandContour         Utilities          LotConfig          LandSlope        \n",
              " Length:1460        Length:1460        Length:1460        Length:1460       \n",
              " Class :character   Class :character   Class :character   Class :character  \n",
              " Mode  :character   Mode  :character   Mode  :character   Mode  :character  \n",
              "                                                                            \n",
              "                                                                            \n",
              "                                                                            \n",
              "                                                                            \n",
              " Neighborhood        Condition1         Condition2          BldgType        \n",
              " Length:1460        Length:1460        Length:1460        Length:1460       \n",
              " Class :character   Class :character   Class :character   Class :character  \n",
              " Mode  :character   Mode  :character   Mode  :character   Mode  :character  \n",
              "                                                                            \n",
              "                                                                            \n",
              "                                                                            \n",
              "                                                                            \n",
              "  HouseStyle         OverallQual      OverallCond      YearBuilt   \n",
              " Length:1460        Min.   : 1.000   Min.   :1.000   Min.   :1872  \n",
              " Class :character   1st Qu.: 5.000   1st Qu.:5.000   1st Qu.:1954  \n",
              " Mode  :character   Median : 6.000   Median :5.000   Median :1973  \n",
              "                    Mean   : 6.099   Mean   :5.575   Mean   :1971  \n",
              "                    3rd Qu.: 7.000   3rd Qu.:6.000   3rd Qu.:2000  \n",
              "                    Max.   :10.000   Max.   :9.000   Max.   :2010  \n",
              "                                                                   \n",
              "  YearRemodAdd   RoofStyle           RoofMatl         Exterior1st       \n",
              " Min.   :1950   Length:1460        Length:1460        Length:1460       \n",
              " 1st Qu.:1967   Class :character   Class :character   Class :character  \n",
              " Median :1994   Mode  :character   Mode  :character   Mode  :character  \n",
              " Mean   :1985                                                           \n",
              " 3rd Qu.:2004                                                           \n",
              " Max.   :2010                                                           \n",
              "                                                                        \n",
              " Exterior2nd         MasVnrType          MasVnrArea      ExterQual        \n",
              " Length:1460        Length:1460        Min.   :   0.0   Length:1460       \n",
              " Class :character   Class :character   1st Qu.:   0.0   Class :character  \n",
              " Mode  :character   Mode  :character   Median :   0.0   Mode  :character  \n",
              "                                       Mean   : 103.7                     \n",
              "                                       3rd Qu.: 166.0                     \n",
              "                                       Max.   :1600.0                     \n",
              "                                       NA's   :8                          \n",
              "  ExterCond          Foundation          BsmtQual           BsmtCond        \n",
              " Length:1460        Length:1460        Length:1460        Length:1460       \n",
              " Class :character   Class :character   Class :character   Class :character  \n",
              " Mode  :character   Mode  :character   Mode  :character   Mode  :character  \n",
              "                                                                            \n",
              "                                                                            \n",
              "                                                                            \n",
              "                                                                            \n",
              " BsmtExposure       BsmtFinType1         BsmtFinSF1     BsmtFinType2      \n",
              " Length:1460        Length:1460        Min.   :   0.0   Length:1460       \n",
              " Class :character   Class :character   1st Qu.:   0.0   Class :character  \n",
              " Mode  :character   Mode  :character   Median : 383.5   Mode  :character  \n",
              "                                       Mean   : 443.6                     \n",
              "                                       3rd Qu.: 712.2                     \n",
              "                                       Max.   :5644.0                     \n",
              "                                                                          \n",
              "   BsmtFinSF2        BsmtUnfSF       TotalBsmtSF       Heating         \n",
              " Min.   :   0.00   Min.   :   0.0   Min.   :   0.0   Length:1460       \n",
              " 1st Qu.:   0.00   1st Qu.: 223.0   1st Qu.: 795.8   Class :character  \n",
              " Median :   0.00   Median : 477.5   Median : 991.5   Mode  :character  \n",
              " Mean   :  46.55   Mean   : 567.2   Mean   :1057.4                     \n",
              " 3rd Qu.:   0.00   3rd Qu.: 808.0   3rd Qu.:1298.2                     \n",
              " Max.   :1474.00   Max.   :2336.0   Max.   :6110.0                     \n",
              "                                                                       \n",
              "  HeatingQC          CentralAir         Electrical          X1stFlrSF   \n",
              " Length:1460        Length:1460        Length:1460        Min.   : 334  \n",
              " Class :character   Class :character   Class :character   1st Qu.: 882  \n",
              " Mode  :character   Mode  :character   Mode  :character   Median :1087  \n",
              "                                                          Mean   :1163  \n",
              "                                                          3rd Qu.:1391  \n",
              "                                                          Max.   :4692  \n",
              "                                                                        \n",
              "   X2ndFlrSF     LowQualFinSF       GrLivArea     BsmtFullBath   \n",
              " Min.   :   0   Min.   :  0.000   Min.   : 334   Min.   :0.0000  \n",
              " 1st Qu.:   0   1st Qu.:  0.000   1st Qu.:1130   1st Qu.:0.0000  \n",
              " Median :   0   Median :  0.000   Median :1464   Median :0.0000  \n",
              " Mean   : 347   Mean   :  5.845   Mean   :1515   Mean   :0.4253  \n",
              " 3rd Qu.: 728   3rd Qu.:  0.000   3rd Qu.:1777   3rd Qu.:1.0000  \n",
              " Max.   :2065   Max.   :572.000   Max.   :5642   Max.   :3.0000  \n",
              "                                                                 \n",
              "  BsmtHalfBath        FullBath        HalfBath       BedroomAbvGr  \n",
              " Min.   :0.00000   Min.   :0.000   Min.   :0.0000   Min.   :0.000  \n",
              " 1st Qu.:0.00000   1st Qu.:1.000   1st Qu.:0.0000   1st Qu.:2.000  \n",
              " Median :0.00000   Median :2.000   Median :0.0000   Median :3.000  \n",
              " Mean   :0.05753   Mean   :1.565   Mean   :0.3829   Mean   :2.866  \n",
              " 3rd Qu.:0.00000   3rd Qu.:2.000   3rd Qu.:1.0000   3rd Qu.:3.000  \n",
              " Max.   :2.00000   Max.   :3.000   Max.   :2.0000   Max.   :8.000  \n",
              "                                                                   \n",
              "  KitchenAbvGr   KitchenQual         TotRmsAbvGrd     Functional       \n",
              " Min.   :0.000   Length:1460        Min.   : 2.000   Length:1460       \n",
              " 1st Qu.:1.000   Class :character   1st Qu.: 5.000   Class :character  \n",
              " Median :1.000   Mode  :character   Median : 6.000   Mode  :character  \n",
              " Mean   :1.047                      Mean   : 6.518                     \n",
              " 3rd Qu.:1.000                      3rd Qu.: 7.000                     \n",
              " Max.   :3.000                      Max.   :14.000                     \n",
              "                                                                       \n",
              "   Fireplaces    FireplaceQu         GarageType         GarageYrBlt  \n",
              " Min.   :0.000   Length:1460        Length:1460        Min.   :1900  \n",
              " 1st Qu.:0.000   Class :character   Class :character   1st Qu.:1961  \n",
              " Median :1.000   Mode  :character   Mode  :character   Median :1980  \n",
              " Mean   :0.613                                         Mean   :1979  \n",
              " 3rd Qu.:1.000                                         3rd Qu.:2002  \n",
              " Max.   :3.000                                         Max.   :2010  \n",
              "                                                       NA's   :81    \n",
              " GarageFinish         GarageCars      GarageArea      GarageQual       \n",
              " Length:1460        Min.   :0.000   Min.   :   0.0   Length:1460       \n",
              " Class :character   1st Qu.:1.000   1st Qu.: 334.5   Class :character  \n",
              " Mode  :character   Median :2.000   Median : 480.0   Mode  :character  \n",
              "                    Mean   :1.767   Mean   : 473.0                     \n",
              "                    3rd Qu.:2.000   3rd Qu.: 576.0                     \n",
              "                    Max.   :4.000   Max.   :1418.0                     \n",
              "                                                                       \n",
              "  GarageCond         PavedDrive          WoodDeckSF      OpenPorchSF    \n",
              " Length:1460        Length:1460        Min.   :  0.00   Min.   :  0.00  \n",
              " Class :character   Class :character   1st Qu.:  0.00   1st Qu.:  0.00  \n",
              " Mode  :character   Mode  :character   Median :  0.00   Median : 25.00  \n",
              "                                       Mean   : 94.24   Mean   : 46.66  \n",
              "                                       3rd Qu.:168.00   3rd Qu.: 68.00  \n",
              "                                       Max.   :857.00   Max.   :547.00  \n",
              "                                                                        \n",
              " EnclosedPorch      X3SsnPorch      ScreenPorch        PoolArea      \n",
              " Min.   :  0.00   Min.   :  0.00   Min.   :  0.00   Min.   :  0.000  \n",
              " 1st Qu.:  0.00   1st Qu.:  0.00   1st Qu.:  0.00   1st Qu.:  0.000  \n",
              " Median :  0.00   Median :  0.00   Median :  0.00   Median :  0.000  \n",
              " Mean   : 21.95   Mean   :  3.41   Mean   : 15.06   Mean   :  2.759  \n",
              " 3rd Qu.:  0.00   3rd Qu.:  0.00   3rd Qu.:  0.00   3rd Qu.:  0.000  \n",
              " Max.   :552.00   Max.   :508.00   Max.   :480.00   Max.   :738.000  \n",
              "                                                                     \n",
              "    PoolQC             Fence           MiscFeature           MiscVal        \n",
              " Length:1460        Length:1460        Length:1460        Min.   :    0.00  \n",
              " Class :character   Class :character   Class :character   1st Qu.:    0.00  \n",
              " Mode  :character   Mode  :character   Mode  :character   Median :    0.00  \n",
              "                                                          Mean   :   43.49  \n",
              "                                                          3rd Qu.:    0.00  \n",
              "                                                          Max.   :15500.00  \n",
              "                                                                            \n",
              "     MoSold           YrSold       SaleType         SaleCondition     \n",
              " Min.   : 1.000   Min.   :2006   Length:1460        Length:1460       \n",
              " 1st Qu.: 5.000   1st Qu.:2007   Class :character   Class :character  \n",
              " Median : 6.000   Median :2008   Mode  :character   Mode  :character  \n",
              " Mean   : 6.322   Mean   :2008                                        \n",
              " 3rd Qu.: 8.000   3rd Qu.:2009                                        \n",
              " Max.   :12.000   Max.   :2010                                        \n",
              "                                                                      \n",
              "   SalePrice     \n",
              " Min.   : 34900  \n",
              " 1st Qu.:129975  \n",
              " Median :163000  \n",
              " Mean   :180921  \n",
              " 3rd Qu.:214000  \n",
              " Max.   :755000  \n",
              "                 "
            ]
          },
          "metadata": {}
        }
      ]
    },
    {
      "cell_type": "markdown",
      "source": [
        "# Data Cleaning"
      ],
      "metadata": {
        "id": "qFVirKpZGrs5"
      }
    },
    {
      "cell_type": "markdown",
      "source": [
        "### **1) Convert and group by data type**\n",
        "We split the data into numeric data and categorical:"
      ],
      "metadata": {
        "id": "KRU_ffINEL3I"
      }
    },
    {
      "cell_type": "code",
      "source": [
        "# numeric data only\n",
        "numeric_data <- select_if(data, is.numeric)"
      ],
      "metadata": {
        "id": "zAzDqrKzDsWz"
      },
      "execution_count": null,
      "outputs": []
    },
    {
      "cell_type": "code",
      "source": [
        "# manually removing columns that are not actually numeric, but just hve numbers as values\n",
        "numeric_data <- select(numeric_data, -MoSold, -MSSubClass, -MasVnrArea, -BsmtFinSF1, -BsmtFinSF2, -LowQualFinSF, -BsmtFullBath, -BsmtHalfBath, -FullBath, -HalfBath, -BedroomAbvGr, -KitchenAbvGr, -TotRmsAbvGrd, -Fireplaces, -GarageCars, -EnclosedPorch, -X3SsnPorch, -ScreenPorch, -MiscVal)"
      ],
      "metadata": {
        "id": "GDwXRlmKEIIP"
      },
      "execution_count": null,
      "outputs": []
    },
    {
      "cell_type": "code",
      "source": [
        "# convert to data frame:\n",
        "dframe <- data.frame(numeric_data)"
      ],
      "metadata": {
        "id": "4BKIidnaGChh"
      },
      "execution_count": null,
      "outputs": []
    },
    {
      "cell_type": "markdown",
      "source": [
        "### **2) Remove 'NA' values:**"
      ],
      "metadata": {
        "id": "C8iN1zqnGMwf"
      }
    },
    {
      "cell_type": "code",
      "source": [
        "# remove NA values in relevant columns (the ones which have NA values and that we will use in our analysis):\n",
        "dframe <- dframe[complete.cases(dframe$LotFrontage), ]\n",
        "dframe <- dframe[complete.cases(dframe$GarageYrBlt), ]"
      ],
      "metadata": {
        "id": "4v8Q5w7RxnYf"
      },
      "execution_count": null,
      "outputs": []
    },
    {
      "cell_type": "markdown",
      "source": [
        "### **3) Checking for duplicated values:**"
      ],
      "metadata": {
        "id": "Qcn-sVZqPhWN"
      }
    },
    {
      "cell_type": "code",
      "source": [
        "# check for duplicates\n",
        "duplicates <- dframe[duplicated(data),]\n",
        "any(duplicates)"
      ],
      "metadata": {
        "id": "wjavzlMfPfMA",
        "colab": {
          "base_uri": "https://localhost:8080/",
          "height": 34
        },
        "outputId": "b7396ecd-e7fa-4d37-a1ab-a4da9954d18b"
      },
      "execution_count": null,
      "outputs": [
        {
          "output_type": "display_data",
          "data": {
            "text/html": [
              "FALSE"
            ],
            "text/markdown": "FALSE",
            "text/latex": "FALSE",
            "text/plain": [
              "[1] FALSE"
            ]
          },
          "metadata": {}
        }
      ]
    },
    {
      "cell_type": "markdown",
      "source": [
        "### **4) Checking the column headers:**"
      ],
      "metadata": {
        "id": "dtdUJupqSpKU"
      }
    },
    {
      "cell_type": "code",
      "source": [
        "colnames(dframe)"
      ],
      "metadata": {
        "id": "BafDesMrSmcq",
        "colab": {
          "base_uri": "https://localhost:8080/",
          "height": 69
        },
        "outputId": "f1590c21-65e0-4dbf-b4b9-be6ee0a50cb1"
      },
      "execution_count": null,
      "outputs": [
        {
          "output_type": "display_data",
          "data": {
            "text/html": [
              "<style>\n",
              ".list-inline {list-style: none; margin:0; padding: 0}\n",
              ".list-inline>li {display: inline-block}\n",
              ".list-inline>li:not(:last-child)::after {content: \"\\00b7\"; padding: 0 .5ex}\n",
              "</style>\n",
              "<ol class=list-inline><li>'Id'</li><li>'LotFrontage'</li><li>'LotArea'</li><li>'OverallQual'</li><li>'OverallCond'</li><li>'YearBuilt'</li><li>'YearRemodAdd'</li><li>'BsmtUnfSF'</li><li>'TotalBsmtSF'</li><li>'X1stFlrSF'</li><li>'X2ndFlrSF'</li><li>'GrLivArea'</li><li>'GarageYrBlt'</li><li>'GarageArea'</li><li>'WoodDeckSF'</li><li>'OpenPorchSF'</li><li>'PoolArea'</li><li>'YrSold'</li><li>'SalePrice'</li></ol>\n"
            ],
            "text/markdown": "1. 'Id'\n2. 'LotFrontage'\n3. 'LotArea'\n4. 'OverallQual'\n5. 'OverallCond'\n6. 'YearBuilt'\n7. 'YearRemodAdd'\n8. 'BsmtUnfSF'\n9. 'TotalBsmtSF'\n10. 'X1stFlrSF'\n11. 'X2ndFlrSF'\n12. 'GrLivArea'\n13. 'GarageYrBlt'\n14. 'GarageArea'\n15. 'WoodDeckSF'\n16. 'OpenPorchSF'\n17. 'PoolArea'\n18. 'YrSold'\n19. 'SalePrice'\n\n\n",
            "text/latex": "\\begin{enumerate*}\n\\item 'Id'\n\\item 'LotFrontage'\n\\item 'LotArea'\n\\item 'OverallQual'\n\\item 'OverallCond'\n\\item 'YearBuilt'\n\\item 'YearRemodAdd'\n\\item 'BsmtUnfSF'\n\\item 'TotalBsmtSF'\n\\item 'X1stFlrSF'\n\\item 'X2ndFlrSF'\n\\item 'GrLivArea'\n\\item 'GarageYrBlt'\n\\item 'GarageArea'\n\\item 'WoodDeckSF'\n\\item 'OpenPorchSF'\n\\item 'PoolArea'\n\\item 'YrSold'\n\\item 'SalePrice'\n\\end{enumerate*}\n",
            "text/plain": [
              " [1] \"Id\"           \"LotFrontage\"  \"LotArea\"      \"OverallQual\"  \"OverallCond\" \n",
              " [6] \"YearBuilt\"    \"YearRemodAdd\" \"BsmtUnfSF\"    \"TotalBsmtSF\"  \"X1stFlrSF\"   \n",
              "[11] \"X2ndFlrSF\"    \"GrLivArea\"    \"GarageYrBlt\"  \"GarageArea\"   \"WoodDeckSF\"  \n",
              "[16] \"OpenPorchSF\"  \"PoolArea\"     \"YrSold\"       \"SalePrice\"   "
            ]
          },
          "metadata": {}
        }
      ]
    },
    {
      "cell_type": "markdown",
      "source": [
        "# Preliminary Numerical Analysis"
      ],
      "metadata": {
        "id": "AQbsyNZSIAN_"
      }
    },
    {
      "cell_type": "markdown",
      "source": [
        "## Preliminary Correlation Matrix"
      ],
      "metadata": {
        "id": "mTYD5Wo_ILLX"
      }
    },
    {
      "cell_type": "code",
      "source": [
        "# Generate the correlation matrix\n",
        "cor_matrix <- cor(dframe)\n",
        "# ordering matrix\n",
        "order_ind <- order(abs(cor_matrix[,ncol(dframe)]), decreasing=TRUE)\n",
        "reorder_mat <- cor_matrix[order_ind, order_ind]"
      ],
      "metadata": {
        "id": "dpT9n1QHIMM_"
      },
      "execution_count": null,
      "outputs": []
    },
    {
      "cell_type": "code",
      "source": [
        "## plotting:\n",
        "# corrplot(reorder_mat, method=\"color\", addCoef.col=\"black\", number.cex=0.5, tl.cex=0.5)"
      ],
      "metadata": {
        "id": "4qtR1KzzIlSO"
      },
      "execution_count": null,
      "outputs": []
    },
    {
      "cell_type": "markdown",
      "source": [
        "## Choosing Numerical Variables"
      ],
      "metadata": {
        "id": "iJQvdSNJI8NI"
      }
    },
    {
      "cell_type": "code",
      "source": [
        "# Creating a new column \"totalSF\"\n",
        "dframe$totalSF <- dframe$GrLivArea + dframe$X1stFlrSF + dframe$X2ndFlrSF\n",
        "\n",
        "# Remove added SFs\n",
        "dframe <- select(dframe, -GrLivArea, -X1stFlrSF, -X2ndFlrSF)"
      ],
      "metadata": {
        "id": "APLl0xveJBA8"
      },
      "execution_count": null,
      "outputs": []
    },
    {
      "cell_type": "code",
      "source": [
        "# Filtering df by pool or no pool:\n",
        "havepool <- subset(dframe, PoolArea != 0)\n",
        "nopool <- subset(dframe, PoolArea == 0)"
      ],
      "metadata": {
        "id": "Arqr1VlJKXOe"
      },
      "execution_count": null,
      "outputs": []
    },
    {
      "cell_type": "code",
      "source": [
        "## HOUSES W/O POOL <<-- because only 6 houses with a pool\n",
        "chosen <- nopool[,c(\"Id\", \"LotFrontage\", \"LotArea\", \"GarageArea\", \"YearBuilt\", \"TotalBsmtSF\", \"totalSF\", \"SalePrice\")]\n",
        "col_names <- names(chosen)"
      ],
      "metadata": {
        "id": "FJ3ZefkvKnG_"
      },
      "execution_count": null,
      "outputs": []
    },
    {
      "cell_type": "markdown",
      "source": [
        "## Histograms"
      ],
      "metadata": {
        "id": "n8N2oKAYcT2x"
      }
    },
    {
      "cell_type": "code",
      "source": [
        "## will not print:\n",
        "if(FALSE) {\n",
        "\tpar(mfrow=c(2,4))\n",
        "\tfor (col in col_names) {\n",
        "\t\tif (col == \"Id\") {next}\n",
        "\t\thist(chosen[[col]], main=col, xlab=col)\n",
        "\t}\n",
        "}"
      ],
      "metadata": {
        "id": "Z3Jyt7CLcXs6"
      },
      "execution_count": null,
      "outputs": []
    },
    {
      "cell_type": "markdown",
      "source": [
        "## Log Transformations"
      ],
      "metadata": {
        "id": "Rxysxmu-caxt"
      }
    },
    {
      "cell_type": "code",
      "source": [
        "## initializing new \"log\" dataframe:\n",
        "log_chosen <- data.frame( matrix( ncol=ncol(chosen), nrow=nrow(chosen) ) )\n",
        "\n",
        "for (col in colnames(chosen)) {\n",
        "\t## making sure YearBuilt and Id aren't transformed:\n",
        "\tif (col == \"YearBuilt\" | col == \"Id\") {\n",
        "\t\tlog_chosen[[paste0(col)]] <- chosen[[col]]\n",
        "\t} else {\n",
        "\t\t## transforming:\n",
        "\t\tlog_chosen[[paste0(\"log\", col)]] <- log(chosen[[col]])\n",
        "\t}\n",
        "}\n",
        "\n",
        "## removing some randoly appearing columns lol\n",
        "log_chosen <- subset(log_chosen, select = -c(X1, X2, X3, X4, X5, X6, X7, X8))\n",
        "head(log_chosen)\n",
        "before_outlier <- nrow(log_chosen)\n",
        "print(before_outlier)"
      ],
      "metadata": {
        "id": "aStmioXscc1Q",
        "colab": {
          "base_uri": "https://localhost:8080/",
          "height": 325
        },
        "outputId": "88b9cd09-79af-406d-fe11-9f3074559834"
      },
      "execution_count": null,
      "outputs": [
        {
          "output_type": "display_data",
          "data": {
            "text/html": [
              "<table class=\"dataframe\">\n",
              "<caption>A data.frame: 6 × 8</caption>\n",
              "<thead>\n",
              "\t<tr><th></th><th scope=col>Id</th><th scope=col>logLotFrontage</th><th scope=col>logLotArea</th><th scope=col>logGarageArea</th><th scope=col>YearBuilt</th><th scope=col>logTotalBsmtSF</th><th scope=col>logtotalSF</th><th scope=col>logSalePrice</th></tr>\n",
              "\t<tr><th></th><th scope=col>&lt;int&gt;</th><th scope=col>&lt;dbl&gt;</th><th scope=col>&lt;dbl&gt;</th><th scope=col>&lt;dbl&gt;</th><th scope=col>&lt;int&gt;</th><th scope=col>&lt;dbl&gt;</th><th scope=col>&lt;dbl&gt;</th><th scope=col>&lt;dbl&gt;</th></tr>\n",
              "</thead>\n",
              "<tbody>\n",
              "\t<tr><th scope=row>1</th><td>1</td><td>4.174387</td><td>9.041922</td><td>6.306275</td><td>2003</td><td>6.752270</td><td>8.137396</td><td>12.24769</td></tr>\n",
              "\t<tr><th scope=row>2</th><td>2</td><td>4.382027</td><td>9.169518</td><td>6.131226</td><td>1976</td><td>7.140453</td><td>7.833600</td><td>12.10901</td></tr>\n",
              "\t<tr><th scope=row>3</th><td>3</td><td>4.219508</td><td>9.328123</td><td>6.410175</td><td>2001</td><td>6.824374</td><td>8.180881</td><td>12.31717</td></tr>\n",
              "\t<tr><th scope=row>4</th><td>4</td><td>4.094345</td><td>9.164296</td><td>6.464588</td><td>1915</td><td>6.628041</td><td>8.141481</td><td>11.84940</td></tr>\n",
              "\t<tr><th scope=row>5</th><td>5</td><td>4.430817</td><td>9.565214</td><td>6.728629</td><td>2000</td><td>7.043160</td><td>8.388450</td><td>12.42922</td></tr>\n",
              "\t<tr><th scope=row>6</th><td>6</td><td>4.442651</td><td>9.554993</td><td>6.173786</td><td>1993</td><td>6.679599</td><td>7.909857</td><td>11.87060</td></tr>\n",
              "</tbody>\n",
              "</table>\n"
            ],
            "text/markdown": "\nA data.frame: 6 × 8\n\n| <!--/--> | Id &lt;int&gt; | logLotFrontage &lt;dbl&gt; | logLotArea &lt;dbl&gt; | logGarageArea &lt;dbl&gt; | YearBuilt &lt;int&gt; | logTotalBsmtSF &lt;dbl&gt; | logtotalSF &lt;dbl&gt; | logSalePrice &lt;dbl&gt; |\n|---|---|---|---|---|---|---|---|---|\n| 1 | 1 | 4.174387 | 9.041922 | 6.306275 | 2003 | 6.752270 | 8.137396 | 12.24769 |\n| 2 | 2 | 4.382027 | 9.169518 | 6.131226 | 1976 | 7.140453 | 7.833600 | 12.10901 |\n| 3 | 3 | 4.219508 | 9.328123 | 6.410175 | 2001 | 6.824374 | 8.180881 | 12.31717 |\n| 4 | 4 | 4.094345 | 9.164296 | 6.464588 | 1915 | 6.628041 | 8.141481 | 11.84940 |\n| 5 | 5 | 4.430817 | 9.565214 | 6.728629 | 2000 | 7.043160 | 8.388450 | 12.42922 |\n| 6 | 6 | 4.442651 | 9.554993 | 6.173786 | 1993 | 6.679599 | 7.909857 | 11.87060 |\n\n",
            "text/latex": "A data.frame: 6 × 8\n\\begin{tabular}{r|llllllll}\n  & Id & logLotFrontage & logLotArea & logGarageArea & YearBuilt & logTotalBsmtSF & logtotalSF & logSalePrice\\\\\n  & <int> & <dbl> & <dbl> & <dbl> & <int> & <dbl> & <dbl> & <dbl>\\\\\n\\hline\n\t1 & 1 & 4.174387 & 9.041922 & 6.306275 & 2003 & 6.752270 & 8.137396 & 12.24769\\\\\n\t2 & 2 & 4.382027 & 9.169518 & 6.131226 & 1976 & 7.140453 & 7.833600 & 12.10901\\\\\n\t3 & 3 & 4.219508 & 9.328123 & 6.410175 & 2001 & 6.824374 & 8.180881 & 12.31717\\\\\n\t4 & 4 & 4.094345 & 9.164296 & 6.464588 & 1915 & 6.628041 & 8.141481 & 11.84940\\\\\n\t5 & 5 & 4.430817 & 9.565214 & 6.728629 & 2000 & 7.043160 & 8.388450 & 12.42922\\\\\n\t6 & 6 & 4.442651 & 9.554993 & 6.173786 & 1993 & 6.679599 & 7.909857 & 11.87060\\\\\n\\end{tabular}\n",
            "text/plain": [
              "  Id logLotFrontage logLotArea logGarageArea YearBuilt logTotalBsmtSF\n",
              "1 1  4.174387       9.041922   6.306275      2003      6.752270      \n",
              "2 2  4.382027       9.169518   6.131226      1976      7.140453      \n",
              "3 3  4.219508       9.328123   6.410175      2001      6.824374      \n",
              "4 4  4.094345       9.164296   6.464588      1915      6.628041      \n",
              "5 5  4.430817       9.565214   6.728629      2000      7.043160      \n",
              "6 6  4.442651       9.554993   6.173786      1993      6.679599      \n",
              "  logtotalSF logSalePrice\n",
              "1 8.137396   12.24769    \n",
              "2 7.833600   12.10901    \n",
              "3 8.180881   12.31717    \n",
              "4 8.141481   11.84940    \n",
              "5 8.388450   12.42922    \n",
              "6 7.909857   11.87060    "
            ]
          },
          "metadata": {}
        },
        {
          "output_type": "stream",
          "name": "stdout",
          "text": [
            "[1] 1121\n"
          ]
        }
      ]
    },
    {
      "cell_type": "markdown",
      "source": [
        "## Log Histograms"
      ],
      "metadata": {
        "id": "_X31lPCGcfZ2"
      }
    },
    {
      "cell_type": "code",
      "source": [
        "## wil not print:\n",
        "if (FALSE) {\n",
        "\n",
        "par(mfrow=c(2,4))\n",
        "\n",
        "for(col in colnames(log_chosen)) {\n",
        "\n",
        "\t## YearBuilt does not work with a log transform\n",
        "\tif (col == \"YearBuilt\" | col == \"Id\") {\n",
        "\t\tnext\n",
        "\t}\n",
        "\thist(log_chosen[[col]], main=col, xlab=col)\n",
        "}\n",
        "\n",
        "## plotting YearBuilt as it is since log doesn't work with it\n",
        "hist(log_chosen[[\"YearBuilt\"]], main=\"YearBuilt\", xlab=\"YearBuilt\")\n",
        "\n",
        "}"
      ],
      "metadata": {
        "id": "ACuqZ4Jucixx"
      },
      "execution_count": null,
      "outputs": []
    },
    {
      "cell_type": "markdown",
      "source": [
        "## Merge with categorical data"
      ],
      "metadata": {
        "id": "tR3M0mFvU7iu"
      }
    },
    {
      "cell_type": "code",
      "source": [
        "## adding the categorical columns by the Id of the remaining houses\n",
        "merged <- merge(log_chosen, data[, c(\"Id\", \"LotShape\", \"MSSubClass\", \"MasVnrType\", \"HouseStyle\")], by=\"Id\")\n",
        "head(merged, 20)\n",
        "nrow(merged)"
      ],
      "metadata": {
        "id": "chv45LllU_I3",
        "colab": {
          "base_uri": "https://localhost:8080/",
          "height": 762
        },
        "outputId": "9083de1e-1e89-4633-d501-46139b1ee682"
      },
      "execution_count": null,
      "outputs": [
        {
          "output_type": "display_data",
          "data": {
            "text/html": [
              "<table class=\"dataframe\">\n",
              "<caption>A data.frame: 20 × 12</caption>\n",
              "<thead>\n",
              "\t<tr><th></th><th scope=col>Id</th><th scope=col>logLotFrontage</th><th scope=col>logLotArea</th><th scope=col>logGarageArea</th><th scope=col>YearBuilt</th><th scope=col>logTotalBsmtSF</th><th scope=col>logtotalSF</th><th scope=col>logSalePrice</th><th scope=col>LotShape</th><th scope=col>MSSubClass</th><th scope=col>MasVnrType</th><th scope=col>HouseStyle</th></tr>\n",
              "\t<tr><th></th><th scope=col>&lt;int&gt;</th><th scope=col>&lt;dbl&gt;</th><th scope=col>&lt;dbl&gt;</th><th scope=col>&lt;dbl&gt;</th><th scope=col>&lt;int&gt;</th><th scope=col>&lt;dbl&gt;</th><th scope=col>&lt;dbl&gt;</th><th scope=col>&lt;dbl&gt;</th><th scope=col>&lt;chr&gt;</th><th scope=col>&lt;int&gt;</th><th scope=col>&lt;chr&gt;</th><th scope=col>&lt;chr&gt;</th></tr>\n",
              "</thead>\n",
              "<tbody>\n",
              "\t<tr><th scope=row>1</th><td> 1</td><td>4.174387</td><td>9.041922</td><td>6.306275</td><td>2003</td><td>6.752270</td><td>8.137396</td><td>12.24769</td><td>Reg</td><td> 60</td><td>BrkFace</td><td>2Story</td></tr>\n",
              "\t<tr><th scope=row>2</th><td> 2</td><td>4.382027</td><td>9.169518</td><td>6.131226</td><td>1976</td><td>7.140453</td><td>7.833600</td><td>12.10901</td><td>Reg</td><td> 20</td><td>None   </td><td>1Story</td></tr>\n",
              "\t<tr><th scope=row>3</th><td> 3</td><td>4.219508</td><td>9.328123</td><td>6.410175</td><td>2001</td><td>6.824374</td><td>8.180881</td><td>12.31717</td><td>IR1</td><td> 60</td><td>BrkFace</td><td>2Story</td></tr>\n",
              "\t<tr><th scope=row>4</th><td> 4</td><td>4.094345</td><td>9.164296</td><td>6.464588</td><td>1915</td><td>6.628041</td><td>8.141481</td><td>11.84940</td><td>IR1</td><td> 70</td><td>None   </td><td>2Story</td></tr>\n",
              "\t<tr><th scope=row>5</th><td> 5</td><td>4.430817</td><td>9.565214</td><td>6.728629</td><td>2000</td><td>7.043160</td><td>8.388450</td><td>12.42922</td><td>IR1</td><td> 60</td><td>BrkFace</td><td>2Story</td></tr>\n",
              "\t<tr><th scope=row>6</th><td> 6</td><td>4.442651</td><td>9.554993</td><td>6.173786</td><td>1993</td><td>6.679599</td><td>7.909857</td><td>11.87060</td><td>IR1</td><td> 50</td><td>None   </td><td>1.5Fin</td></tr>\n",
              "\t<tr><th scope=row>7</th><td> 7</td><td>4.317488</td><td>9.218705</td><td>6.455199</td><td>2004</td><td>7.430114</td><td>8.127995</td><td>12.63460</td><td>Reg</td><td> 20</td><td>Stone  </td><td>1Story</td></tr>\n",
              "\t<tr><th scope=row>8</th><td> 9</td><td>3.931826</td><td>8.719317</td><td>6.148468</td><td>1931</td><td>6.858565</td><td>8.174139</td><td>11.77452</td><td>Reg</td><td> 50</td><td>None   </td><td>1.5Fin</td></tr>\n",
              "\t<tr><th scope=row>9</th><td>10</td><td>3.912023</td><td>8.911934</td><td>5.323010</td><td>1939</td><td>6.898715</td><td>7.675082</td><td>11.67844</td><td>Reg</td><td>190</td><td>None   </td><td>1.5Unf</td></tr>\n",
              "\t<tr><th scope=row>10</th><td>11</td><td>4.248495</td><td>9.323669</td><td>5.950643</td><td>1965</td><td>6.946976</td><td>7.640123</td><td>11.77144</td><td>Reg</td><td> 20</td><td>None   </td><td>1Story</td></tr>\n",
              "\t<tr><th scope=row>11</th><td>12</td><td>4.442651</td><td>9.386308</td><td>6.601230</td><td>2005</td><td>7.069023</td><td>8.444192</td><td>12.75130</td><td>IR1</td><td> 60</td><td>Stone  </td><td>2Story</td></tr>\n",
              "\t<tr><th scope=row>12</th><td>14</td><td>4.510860</td><td>9.273503</td><td>6.733402</td><td>2006</td><td>7.309212</td><td>8.002360</td><td>12.54076</td><td>IR1</td><td> 20</td><td>Stone  </td><td>1Story</td></tr>\n",
              "\t<tr><th scope=row>13</th><td>16</td><td>3.931826</td><td>8.719317</td><td>6.356108</td><td>1929</td><td>6.723832</td><td>7.443078</td><td>11.79056</td><td>Reg</td><td> 45</td><td>None   </td><td>1.5Unf</td></tr>\n",
              "\t<tr><th scope=row>14</th><td>18</td><td>4.276666</td><td>9.286468</td><td>6.246107</td><td>1967</td><td>    -Inf</td><td>7.860185</td><td>11.40756</td><td>Reg</td><td> 90</td><td>None   </td><td>1Story</td></tr>\n",
              "\t<tr><th scope=row>15</th><td>19</td><td>4.189655</td><td>9.524786</td><td>6.356108</td><td>2004</td><td>7.015712</td><td>7.708860</td><td>11.97666</td><td>Reg</td><td> 20</td><td>None   </td><td>1Story</td></tr>\n",
              "\t<tr><th scope=row>16</th><td>20</td><td>4.248495</td><td>8.930626</td><td>5.683580</td><td>1958</td><td>6.936343</td><td>7.892826</td><td>11.84223</td><td>Reg</td><td> 20</td><td>None   </td><td>1Story</td></tr>\n",
              "\t<tr><th scope=row>17</th><td>21</td><td>4.615121</td><td>9.562053</td><td>6.748760</td><td>2005</td><td>7.054450</td><td>8.466321</td><td>12.69250</td><td>IR1</td><td> 60</td><td>BrkFace</td><td>2Story</td></tr>\n",
              "\t<tr><th scope=row>18</th><td>22</td><td>4.043051</td><td>8.915835</td><td>5.634790</td><td>1930</td><td>6.456770</td><td>7.703459</td><td>11.84510</td><td>Reg</td><td> 45</td><td>None   </td><td>1.5Unf</td></tr>\n",
              "\t<tr><th scope=row>19</th><td>23</td><td>4.317488</td><td>9.184202</td><td>6.280396</td><td>2002</td><td>7.482682</td><td>8.185907</td><td>12.34583</td><td>Reg</td><td> 20</td><td>BrkFace</td><td>1Story</td></tr>\n",
              "\t<tr><th scope=row>20</th><td>24</td><td>3.784190</td><td>8.348538</td><td>6.349139</td><td>1976</td><td>6.946976</td><td>7.659171</td><td>11.77452</td><td>Reg</td><td>120</td><td>None   </td><td>1Story</td></tr>\n",
              "</tbody>\n",
              "</table>\n"
            ],
            "text/markdown": "\nA data.frame: 20 × 12\n\n| <!--/--> | Id &lt;int&gt; | logLotFrontage &lt;dbl&gt; | logLotArea &lt;dbl&gt; | logGarageArea &lt;dbl&gt; | YearBuilt &lt;int&gt; | logTotalBsmtSF &lt;dbl&gt; | logtotalSF &lt;dbl&gt; | logSalePrice &lt;dbl&gt; | LotShape &lt;chr&gt; | MSSubClass &lt;int&gt; | MasVnrType &lt;chr&gt; | HouseStyle &lt;chr&gt; |\n|---|---|---|---|---|---|---|---|---|---|---|---|---|\n| 1 |  1 | 4.174387 | 9.041922 | 6.306275 | 2003 | 6.752270 | 8.137396 | 12.24769 | Reg |  60 | BrkFace | 2Story |\n| 2 |  2 | 4.382027 | 9.169518 | 6.131226 | 1976 | 7.140453 | 7.833600 | 12.10901 | Reg |  20 | None    | 1Story |\n| 3 |  3 | 4.219508 | 9.328123 | 6.410175 | 2001 | 6.824374 | 8.180881 | 12.31717 | IR1 |  60 | BrkFace | 2Story |\n| 4 |  4 | 4.094345 | 9.164296 | 6.464588 | 1915 | 6.628041 | 8.141481 | 11.84940 | IR1 |  70 | None    | 2Story |\n| 5 |  5 | 4.430817 | 9.565214 | 6.728629 | 2000 | 7.043160 | 8.388450 | 12.42922 | IR1 |  60 | BrkFace | 2Story |\n| 6 |  6 | 4.442651 | 9.554993 | 6.173786 | 1993 | 6.679599 | 7.909857 | 11.87060 | IR1 |  50 | None    | 1.5Fin |\n| 7 |  7 | 4.317488 | 9.218705 | 6.455199 | 2004 | 7.430114 | 8.127995 | 12.63460 | Reg |  20 | Stone   | 1Story |\n| 8 |  9 | 3.931826 | 8.719317 | 6.148468 | 1931 | 6.858565 | 8.174139 | 11.77452 | Reg |  50 | None    | 1.5Fin |\n| 9 | 10 | 3.912023 | 8.911934 | 5.323010 | 1939 | 6.898715 | 7.675082 | 11.67844 | Reg | 190 | None    | 1.5Unf |\n| 10 | 11 | 4.248495 | 9.323669 | 5.950643 | 1965 | 6.946976 | 7.640123 | 11.77144 | Reg |  20 | None    | 1Story |\n| 11 | 12 | 4.442651 | 9.386308 | 6.601230 | 2005 | 7.069023 | 8.444192 | 12.75130 | IR1 |  60 | Stone   | 2Story |\n| 12 | 14 | 4.510860 | 9.273503 | 6.733402 | 2006 | 7.309212 | 8.002360 | 12.54076 | IR1 |  20 | Stone   | 1Story |\n| 13 | 16 | 3.931826 | 8.719317 | 6.356108 | 1929 | 6.723832 | 7.443078 | 11.79056 | Reg |  45 | None    | 1.5Unf |\n| 14 | 18 | 4.276666 | 9.286468 | 6.246107 | 1967 |     -Inf | 7.860185 | 11.40756 | Reg |  90 | None    | 1Story |\n| 15 | 19 | 4.189655 | 9.524786 | 6.356108 | 2004 | 7.015712 | 7.708860 | 11.97666 | Reg |  20 | None    | 1Story |\n| 16 | 20 | 4.248495 | 8.930626 | 5.683580 | 1958 | 6.936343 | 7.892826 | 11.84223 | Reg |  20 | None    | 1Story |\n| 17 | 21 | 4.615121 | 9.562053 | 6.748760 | 2005 | 7.054450 | 8.466321 | 12.69250 | IR1 |  60 | BrkFace | 2Story |\n| 18 | 22 | 4.043051 | 8.915835 | 5.634790 | 1930 | 6.456770 | 7.703459 | 11.84510 | Reg |  45 | None    | 1.5Unf |\n| 19 | 23 | 4.317488 | 9.184202 | 6.280396 | 2002 | 7.482682 | 8.185907 | 12.34583 | Reg |  20 | BrkFace | 1Story |\n| 20 | 24 | 3.784190 | 8.348538 | 6.349139 | 1976 | 6.946976 | 7.659171 | 11.77452 | Reg | 120 | None    | 1Story |\n\n",
            "text/latex": "A data.frame: 20 × 12\n\\begin{tabular}{r|llllllllllll}\n  & Id & logLotFrontage & logLotArea & logGarageArea & YearBuilt & logTotalBsmtSF & logtotalSF & logSalePrice & LotShape & MSSubClass & MasVnrType & HouseStyle\\\\\n  & <int> & <dbl> & <dbl> & <dbl> & <int> & <dbl> & <dbl> & <dbl> & <chr> & <int> & <chr> & <chr>\\\\\n\\hline\n\t1 &  1 & 4.174387 & 9.041922 & 6.306275 & 2003 & 6.752270 & 8.137396 & 12.24769 & Reg &  60 & BrkFace & 2Story\\\\\n\t2 &  2 & 4.382027 & 9.169518 & 6.131226 & 1976 & 7.140453 & 7.833600 & 12.10901 & Reg &  20 & None    & 1Story\\\\\n\t3 &  3 & 4.219508 & 9.328123 & 6.410175 & 2001 & 6.824374 & 8.180881 & 12.31717 & IR1 &  60 & BrkFace & 2Story\\\\\n\t4 &  4 & 4.094345 & 9.164296 & 6.464588 & 1915 & 6.628041 & 8.141481 & 11.84940 & IR1 &  70 & None    & 2Story\\\\\n\t5 &  5 & 4.430817 & 9.565214 & 6.728629 & 2000 & 7.043160 & 8.388450 & 12.42922 & IR1 &  60 & BrkFace & 2Story\\\\\n\t6 &  6 & 4.442651 & 9.554993 & 6.173786 & 1993 & 6.679599 & 7.909857 & 11.87060 & IR1 &  50 & None    & 1.5Fin\\\\\n\t7 &  7 & 4.317488 & 9.218705 & 6.455199 & 2004 & 7.430114 & 8.127995 & 12.63460 & Reg &  20 & Stone   & 1Story\\\\\n\t8 &  9 & 3.931826 & 8.719317 & 6.148468 & 1931 & 6.858565 & 8.174139 & 11.77452 & Reg &  50 & None    & 1.5Fin\\\\\n\t9 & 10 & 3.912023 & 8.911934 & 5.323010 & 1939 & 6.898715 & 7.675082 & 11.67844 & Reg & 190 & None    & 1.5Unf\\\\\n\t10 & 11 & 4.248495 & 9.323669 & 5.950643 & 1965 & 6.946976 & 7.640123 & 11.77144 & Reg &  20 & None    & 1Story\\\\\n\t11 & 12 & 4.442651 & 9.386308 & 6.601230 & 2005 & 7.069023 & 8.444192 & 12.75130 & IR1 &  60 & Stone   & 2Story\\\\\n\t12 & 14 & 4.510860 & 9.273503 & 6.733402 & 2006 & 7.309212 & 8.002360 & 12.54076 & IR1 &  20 & Stone   & 1Story\\\\\n\t13 & 16 & 3.931826 & 8.719317 & 6.356108 & 1929 & 6.723832 & 7.443078 & 11.79056 & Reg &  45 & None    & 1.5Unf\\\\\n\t14 & 18 & 4.276666 & 9.286468 & 6.246107 & 1967 &     -Inf & 7.860185 & 11.40756 & Reg &  90 & None    & 1Story\\\\\n\t15 & 19 & 4.189655 & 9.524786 & 6.356108 & 2004 & 7.015712 & 7.708860 & 11.97666 & Reg &  20 & None    & 1Story\\\\\n\t16 & 20 & 4.248495 & 8.930626 & 5.683580 & 1958 & 6.936343 & 7.892826 & 11.84223 & Reg &  20 & None    & 1Story\\\\\n\t17 & 21 & 4.615121 & 9.562053 & 6.748760 & 2005 & 7.054450 & 8.466321 & 12.69250 & IR1 &  60 & BrkFace & 2Story\\\\\n\t18 & 22 & 4.043051 & 8.915835 & 5.634790 & 1930 & 6.456770 & 7.703459 & 11.84510 & Reg &  45 & None    & 1.5Unf\\\\\n\t19 & 23 & 4.317488 & 9.184202 & 6.280396 & 2002 & 7.482682 & 8.185907 & 12.34583 & Reg &  20 & BrkFace & 1Story\\\\\n\t20 & 24 & 3.784190 & 8.348538 & 6.349139 & 1976 & 6.946976 & 7.659171 & 11.77452 & Reg & 120 & None    & 1Story\\\\\n\\end{tabular}\n",
            "text/plain": [
              "   Id logLotFrontage logLotArea logGarageArea YearBuilt logTotalBsmtSF\n",
              "1   1 4.174387       9.041922   6.306275      2003      6.752270      \n",
              "2   2 4.382027       9.169518   6.131226      1976      7.140453      \n",
              "3   3 4.219508       9.328123   6.410175      2001      6.824374      \n",
              "4   4 4.094345       9.164296   6.464588      1915      6.628041      \n",
              "5   5 4.430817       9.565214   6.728629      2000      7.043160      \n",
              "6   6 4.442651       9.554993   6.173786      1993      6.679599      \n",
              "7   7 4.317488       9.218705   6.455199      2004      7.430114      \n",
              "8   9 3.931826       8.719317   6.148468      1931      6.858565      \n",
              "9  10 3.912023       8.911934   5.323010      1939      6.898715      \n",
              "10 11 4.248495       9.323669   5.950643      1965      6.946976      \n",
              "11 12 4.442651       9.386308   6.601230      2005      7.069023      \n",
              "12 14 4.510860       9.273503   6.733402      2006      7.309212      \n",
              "13 16 3.931826       8.719317   6.356108      1929      6.723832      \n",
              "14 18 4.276666       9.286468   6.246107      1967          -Inf      \n",
              "15 19 4.189655       9.524786   6.356108      2004      7.015712      \n",
              "16 20 4.248495       8.930626   5.683580      1958      6.936343      \n",
              "17 21 4.615121       9.562053   6.748760      2005      7.054450      \n",
              "18 22 4.043051       8.915835   5.634790      1930      6.456770      \n",
              "19 23 4.317488       9.184202   6.280396      2002      7.482682      \n",
              "20 24 3.784190       8.348538   6.349139      1976      6.946976      \n",
              "   logtotalSF logSalePrice LotShape MSSubClass MasVnrType HouseStyle\n",
              "1  8.137396   12.24769     Reg       60        BrkFace    2Story    \n",
              "2  7.833600   12.10901     Reg       20        None       1Story    \n",
              "3  8.180881   12.31717     IR1       60        BrkFace    2Story    \n",
              "4  8.141481   11.84940     IR1       70        None       2Story    \n",
              "5  8.388450   12.42922     IR1       60        BrkFace    2Story    \n",
              "6  7.909857   11.87060     IR1       50        None       1.5Fin    \n",
              "7  8.127995   12.63460     Reg       20        Stone      1Story    \n",
              "8  8.174139   11.77452     Reg       50        None       1.5Fin    \n",
              "9  7.675082   11.67844     Reg      190        None       1.5Unf    \n",
              "10 7.640123   11.77144     Reg       20        None       1Story    \n",
              "11 8.444192   12.75130     IR1       60        Stone      2Story    \n",
              "12 8.002360   12.54076     IR1       20        Stone      1Story    \n",
              "13 7.443078   11.79056     Reg       45        None       1.5Unf    \n",
              "14 7.860185   11.40756     Reg       90        None       1Story    \n",
              "15 7.708860   11.97666     Reg       20        None       1Story    \n",
              "16 7.892826   11.84223     Reg       20        None       1Story    \n",
              "17 8.466321   12.69250     IR1       60        BrkFace    2Story    \n",
              "18 7.703459   11.84510     Reg       45        None       1.5Unf    \n",
              "19 8.185907   12.34583     Reg       20        BrkFace    1Story    \n",
              "20 7.659171   11.77452     Reg      120        None       1Story    "
            ]
          },
          "metadata": {}
        },
        {
          "output_type": "display_data",
          "data": {
            "text/html": [
              "1121"
            ],
            "text/markdown": "1121",
            "text/latex": "1121",
            "text/plain": [
              "[1] 1121"
            ]
          },
          "metadata": {}
        }
      ]
    },
    {
      "cell_type": "code",
      "source": [],
      "metadata": {
        "id": "-GIYJI8IJJJr"
      },
      "execution_count": null,
      "outputs": []
    },
    {
      "cell_type": "markdown",
      "source": [
        "# Removing irrelevant and NA values"
      ],
      "metadata": {
        "id": "k62Od_-lVB6l"
      }
    },
    {
      "cell_type": "code",
      "source": [
        "## removing Planned Unit Developments in MSSubClass\n",
        "filtered <- subset(merged, !(MSSubClass %in% c(120, 150, 160, 180, 190)))\n",
        "nrow(filtered)\n",
        "\n",
        "filtered <- na.omit(filtered, MasVnrType)"
      ],
      "metadata": {
        "id": "fGNHEMTFVIWG",
        "colab": {
          "base_uri": "https://localhost:8080/",
          "height": 34
        },
        "outputId": "5cf1bf7a-27a9-41c0-cb4b-11a6e432d4c1"
      },
      "execution_count": null,
      "outputs": [
        {
          "output_type": "display_data",
          "data": {
            "text/html": [
              "976"
            ],
            "text/markdown": "976",
            "text/latex": "976",
            "text/plain": [
              "[1] 976"
            ]
          },
          "metadata": {}
        }
      ]
    },
    {
      "cell_type": "markdown",
      "source": [
        "## Remove outliers from Log"
      ],
      "metadata": {
        "id": "CbsowVFrcllt"
      }
    },
    {
      "cell_type": "code",
      "source": [
        "for (col in 1:ncol(log_chosen)) {\n",
        "\tx <- log_chosen[,col]\n",
        "\n",
        "\tq1 <- quantile(x, 0.25)\n",
        "\tq3 <- quantile(x, 0.75)\n",
        "\tiqr <- q3-q1\n",
        "\tlower <- q1 - 1.5*iqr\n",
        "\tupper <- q3 + 1.5*iqr\n",
        "\n",
        "\t## if too low or too high, replace with NA\n",
        "\tx <- ifelse(x<lower | x>upper, NA, x)\n",
        "\n",
        "\t## removing rows w NA\n",
        "\tlog_chosen <- log_chosen[complete.cases(x),]\n",
        "\n",
        "}\n",
        "\n",
        "head(log_chosen)\n",
        "after_outlier <- nrow(log_chosen)\n",
        "print(after_outlier)\n",
        "\n",
        "outliers <- before_outlier - after_outlier\n",
        "print(outliers)"
      ],
      "metadata": {
        "id": "DmOksGNUcpFL",
        "colab": {
          "base_uri": "https://localhost:8080/",
          "height": 343
        },
        "outputId": "14f7bcbe-538f-4121-a427-669bcb824f10"
      },
      "execution_count": null,
      "outputs": [
        {
          "output_type": "display_data",
          "data": {
            "text/html": [
              "<table class=\"dataframe\">\n",
              "<caption>A data.frame: 6 × 8</caption>\n",
              "<thead>\n",
              "\t<tr><th></th><th scope=col>Id</th><th scope=col>logLotFrontage</th><th scope=col>logLotArea</th><th scope=col>logGarageArea</th><th scope=col>YearBuilt</th><th scope=col>logTotalBsmtSF</th><th scope=col>logtotalSF</th><th scope=col>logSalePrice</th></tr>\n",
              "\t<tr><th></th><th scope=col>&lt;int&gt;</th><th scope=col>&lt;dbl&gt;</th><th scope=col>&lt;dbl&gt;</th><th scope=col>&lt;dbl&gt;</th><th scope=col>&lt;int&gt;</th><th scope=col>&lt;dbl&gt;</th><th scope=col>&lt;dbl&gt;</th><th scope=col>&lt;dbl&gt;</th></tr>\n",
              "</thead>\n",
              "<tbody>\n",
              "\t<tr><th scope=row>1</th><td>1</td><td>4.174387</td><td>9.041922</td><td>6.306275</td><td>2003</td><td>6.752270</td><td>8.137396</td><td>12.24769</td></tr>\n",
              "\t<tr><th scope=row>2</th><td>2</td><td>4.382027</td><td>9.169518</td><td>6.131226</td><td>1976</td><td>7.140453</td><td>7.833600</td><td>12.10901</td></tr>\n",
              "\t<tr><th scope=row>3</th><td>3</td><td>4.219508</td><td>9.328123</td><td>6.410175</td><td>2001</td><td>6.824374</td><td>8.180881</td><td>12.31717</td></tr>\n",
              "\t<tr><th scope=row>4</th><td>4</td><td>4.094345</td><td>9.164296</td><td>6.464588</td><td>1915</td><td>6.628041</td><td>8.141481</td><td>11.84940</td></tr>\n",
              "\t<tr><th scope=row>5</th><td>5</td><td>4.430817</td><td>9.565214</td><td>6.728629</td><td>2000</td><td>7.043160</td><td>8.388450</td><td>12.42922</td></tr>\n",
              "\t<tr><th scope=row>6</th><td>6</td><td>4.442651</td><td>9.554993</td><td>6.173786</td><td>1993</td><td>6.679599</td><td>7.909857</td><td>11.87060</td></tr>\n",
              "</tbody>\n",
              "</table>\n"
            ],
            "text/markdown": "\nA data.frame: 6 × 8\n\n| <!--/--> | Id &lt;int&gt; | logLotFrontage &lt;dbl&gt; | logLotArea &lt;dbl&gt; | logGarageArea &lt;dbl&gt; | YearBuilt &lt;int&gt; | logTotalBsmtSF &lt;dbl&gt; | logtotalSF &lt;dbl&gt; | logSalePrice &lt;dbl&gt; |\n|---|---|---|---|---|---|---|---|---|\n| 1 | 1 | 4.174387 | 9.041922 | 6.306275 | 2003 | 6.752270 | 8.137396 | 12.24769 |\n| 2 | 2 | 4.382027 | 9.169518 | 6.131226 | 1976 | 7.140453 | 7.833600 | 12.10901 |\n| 3 | 3 | 4.219508 | 9.328123 | 6.410175 | 2001 | 6.824374 | 8.180881 | 12.31717 |\n| 4 | 4 | 4.094345 | 9.164296 | 6.464588 | 1915 | 6.628041 | 8.141481 | 11.84940 |\n| 5 | 5 | 4.430817 | 9.565214 | 6.728629 | 2000 | 7.043160 | 8.388450 | 12.42922 |\n| 6 | 6 | 4.442651 | 9.554993 | 6.173786 | 1993 | 6.679599 | 7.909857 | 11.87060 |\n\n",
            "text/latex": "A data.frame: 6 × 8\n\\begin{tabular}{r|llllllll}\n  & Id & logLotFrontage & logLotArea & logGarageArea & YearBuilt & logTotalBsmtSF & logtotalSF & logSalePrice\\\\\n  & <int> & <dbl> & <dbl> & <dbl> & <int> & <dbl> & <dbl> & <dbl>\\\\\n\\hline\n\t1 & 1 & 4.174387 & 9.041922 & 6.306275 & 2003 & 6.752270 & 8.137396 & 12.24769\\\\\n\t2 & 2 & 4.382027 & 9.169518 & 6.131226 & 1976 & 7.140453 & 7.833600 & 12.10901\\\\\n\t3 & 3 & 4.219508 & 9.328123 & 6.410175 & 2001 & 6.824374 & 8.180881 & 12.31717\\\\\n\t4 & 4 & 4.094345 & 9.164296 & 6.464588 & 1915 & 6.628041 & 8.141481 & 11.84940\\\\\n\t5 & 5 & 4.430817 & 9.565214 & 6.728629 & 2000 & 7.043160 & 8.388450 & 12.42922\\\\\n\t6 & 6 & 4.442651 & 9.554993 & 6.173786 & 1993 & 6.679599 & 7.909857 & 11.87060\\\\\n\\end{tabular}\n",
            "text/plain": [
              "  Id logLotFrontage logLotArea logGarageArea YearBuilt logTotalBsmtSF\n",
              "1 1  4.174387       9.041922   6.306275      2003      6.752270      \n",
              "2 2  4.382027       9.169518   6.131226      1976      7.140453      \n",
              "3 3  4.219508       9.328123   6.410175      2001      6.824374      \n",
              "4 4  4.094345       9.164296   6.464588      1915      6.628041      \n",
              "5 5  4.430817       9.565214   6.728629      2000      7.043160      \n",
              "6 6  4.442651       9.554993   6.173786      1993      6.679599      \n",
              "  logtotalSF logSalePrice\n",
              "1 8.137396   12.24769    \n",
              "2 7.833600   12.10901    \n",
              "3 8.180881   12.31717    \n",
              "4 8.141481   11.84940    \n",
              "5 8.388450   12.42922    \n",
              "6 7.909857   11.87060    "
            ]
          },
          "metadata": {}
        },
        {
          "output_type": "stream",
          "name": "stdout",
          "text": [
            "[1] 916\n",
            "[1] 205\n"
          ]
        }
      ]
    },
    {
      "cell_type": "markdown",
      "source": [
        "## Log boxplots after outliers removed"
      ],
      "metadata": {
        "id": "Y8AHc5LRcs3o"
      }
    },
    {
      "cell_type": "code",
      "source": [
        "## will not print:\n",
        "if (FALSE) {\n",
        "\n",
        "par(mfrow=c(2,4))\n",
        "for (col in colnames(log_chosen)) {\n",
        "\t## don't plot irrelevant stuff\n",
        "\tif (col == \"Id\") {next}\n",
        "\tboxplot(log_chosen[,col], main=col)\n",
        "}\n",
        "\n",
        "}"
      ],
      "metadata": {
        "id": "PQAx_cihcv6u"
      },
      "execution_count": null,
      "outputs": []
    },
    {
      "cell_type": "markdown",
      "source": [
        "## Correlation Matrix"
      ],
      "metadata": {
        "id": "DGM-0EJzc-nc"
      }
    },
    {
      "cell_type": "code",
      "source": [
        "## CORRELATION WITH LOG (NO OUTLIERS):\n",
        "\n",
        "\n",
        "cor_mat_chosen <- cor(log_chosen)\n",
        "order_ind_chosen <- order(abs(cor_mat_chosen[,ncol(log_chosen)]), decreasing=TRUE)\n",
        "reorder_mat_chosen <- cor_mat_chosen[order_ind_chosen, order_ind_chosen]\n",
        "\n",
        "\n",
        "## ORDERING the df (chosen variables) by correlation\n",
        "corr_values <- cor_mat_chosen[\"logSalePrice\", -ncol(log_chosen)]\n",
        "corr_order <- order(-abs(corr_values))\n",
        "log_chosen <- log_chosen[,c(\"logSalePrice\", names(log_chosen)[corr_order])]\n",
        "head(log_chosen)\n",
        "\n",
        "## will not print:\n",
        "# par(mfrow=c(1,1))\n",
        "# corrplot(reorder_mat_chosen, method=\"color\", addCoef.col=\"black\", number.cex=0.7, tl.cex=0.7)\n",
        "\n"
      ],
      "metadata": {
        "id": "7cPxKfQvc--n",
        "colab": {
          "base_uri": "https://localhost:8080/",
          "height": 306
        },
        "outputId": "514df25d-ca1e-420b-e9ad-5b7bdc61121f"
      },
      "execution_count": null,
      "outputs": [
        {
          "output_type": "display_data",
          "data": {
            "text/html": [
              "<table class=\"dataframe\">\n",
              "<caption>A data.frame: 6 × 8</caption>\n",
              "<thead>\n",
              "\t<tr><th></th><th scope=col>logSalePrice</th><th scope=col>logtotalSF</th><th scope=col>YearBuilt</th><th scope=col>logGarageArea</th><th scope=col>logTotalBsmtSF</th><th scope=col>logLotArea</th><th scope=col>logLotFrontage</th><th scope=col>Id</th></tr>\n",
              "\t<tr><th></th><th scope=col>&lt;dbl&gt;</th><th scope=col>&lt;dbl&gt;</th><th scope=col>&lt;int&gt;</th><th scope=col>&lt;dbl&gt;</th><th scope=col>&lt;dbl&gt;</th><th scope=col>&lt;dbl&gt;</th><th scope=col>&lt;dbl&gt;</th><th scope=col>&lt;int&gt;</th></tr>\n",
              "</thead>\n",
              "<tbody>\n",
              "\t<tr><th scope=row>1</th><td>12.24769</td><td>8.137396</td><td>2003</td><td>6.306275</td><td>6.752270</td><td>9.041922</td><td>4.174387</td><td>1</td></tr>\n",
              "\t<tr><th scope=row>2</th><td>12.10901</td><td>7.833600</td><td>1976</td><td>6.131226</td><td>7.140453</td><td>9.169518</td><td>4.382027</td><td>2</td></tr>\n",
              "\t<tr><th scope=row>3</th><td>12.31717</td><td>8.180881</td><td>2001</td><td>6.410175</td><td>6.824374</td><td>9.328123</td><td>4.219508</td><td>3</td></tr>\n",
              "\t<tr><th scope=row>4</th><td>11.84940</td><td>8.141481</td><td>1915</td><td>6.464588</td><td>6.628041</td><td>9.164296</td><td>4.094345</td><td>4</td></tr>\n",
              "\t<tr><th scope=row>5</th><td>12.42922</td><td>8.388450</td><td>2000</td><td>6.728629</td><td>7.043160</td><td>9.565214</td><td>4.430817</td><td>5</td></tr>\n",
              "\t<tr><th scope=row>6</th><td>11.87060</td><td>7.909857</td><td>1993</td><td>6.173786</td><td>6.679599</td><td>9.554993</td><td>4.442651</td><td>6</td></tr>\n",
              "</tbody>\n",
              "</table>\n"
            ],
            "text/markdown": "\nA data.frame: 6 × 8\n\n| <!--/--> | logSalePrice &lt;dbl&gt; | logtotalSF &lt;dbl&gt; | YearBuilt &lt;int&gt; | logGarageArea &lt;dbl&gt; | logTotalBsmtSF &lt;dbl&gt; | logLotArea &lt;dbl&gt; | logLotFrontage &lt;dbl&gt; | Id &lt;int&gt; |\n|---|---|---|---|---|---|---|---|---|\n| 1 | 12.24769 | 8.137396 | 2003 | 6.306275 | 6.752270 | 9.041922 | 4.174387 | 1 |\n| 2 | 12.10901 | 7.833600 | 1976 | 6.131226 | 7.140453 | 9.169518 | 4.382027 | 2 |\n| 3 | 12.31717 | 8.180881 | 2001 | 6.410175 | 6.824374 | 9.328123 | 4.219508 | 3 |\n| 4 | 11.84940 | 8.141481 | 1915 | 6.464588 | 6.628041 | 9.164296 | 4.094345 | 4 |\n| 5 | 12.42922 | 8.388450 | 2000 | 6.728629 | 7.043160 | 9.565214 | 4.430817 | 5 |\n| 6 | 11.87060 | 7.909857 | 1993 | 6.173786 | 6.679599 | 9.554993 | 4.442651 | 6 |\n\n",
            "text/latex": "A data.frame: 6 × 8\n\\begin{tabular}{r|llllllll}\n  & logSalePrice & logtotalSF & YearBuilt & logGarageArea & logTotalBsmtSF & logLotArea & logLotFrontage & Id\\\\\n  & <dbl> & <dbl> & <int> & <dbl> & <dbl> & <dbl> & <dbl> & <int>\\\\\n\\hline\n\t1 & 12.24769 & 8.137396 & 2003 & 6.306275 & 6.752270 & 9.041922 & 4.174387 & 1\\\\\n\t2 & 12.10901 & 7.833600 & 1976 & 6.131226 & 7.140453 & 9.169518 & 4.382027 & 2\\\\\n\t3 & 12.31717 & 8.180881 & 2001 & 6.410175 & 6.824374 & 9.328123 & 4.219508 & 3\\\\\n\t4 & 11.84940 & 8.141481 & 1915 & 6.464588 & 6.628041 & 9.164296 & 4.094345 & 4\\\\\n\t5 & 12.42922 & 8.388450 & 2000 & 6.728629 & 7.043160 & 9.565214 & 4.430817 & 5\\\\\n\t6 & 11.87060 & 7.909857 & 1993 & 6.173786 & 6.679599 & 9.554993 & 4.442651 & 6\\\\\n\\end{tabular}\n",
            "text/plain": [
              "  logSalePrice logtotalSF YearBuilt logGarageArea logTotalBsmtSF logLotArea\n",
              "1 12.24769     8.137396   2003      6.306275      6.752270       9.041922  \n",
              "2 12.10901     7.833600   1976      6.131226      7.140453       9.169518  \n",
              "3 12.31717     8.180881   2001      6.410175      6.824374       9.328123  \n",
              "4 11.84940     8.141481   1915      6.464588      6.628041       9.164296  \n",
              "5 12.42922     8.388450   2000      6.728629      7.043160       9.565214  \n",
              "6 11.87060     7.909857   1993      6.173786      6.679599       9.554993  \n",
              "  logLotFrontage Id\n",
              "1 4.174387       1 \n",
              "2 4.382027       2 \n",
              "3 4.219508       3 \n",
              "4 4.094345       4 \n",
              "5 4.430817       5 \n",
              "6 4.442651       6 "
            ]
          },
          "metadata": {}
        }
      ]
    },
    {
      "cell_type": "markdown",
      "source": [
        "## Regression of Chosen Numerical Vars"
      ],
      "metadata": {
        "id": "JhFMxj_MdDrs"
      }
    },
    {
      "cell_type": "code",
      "source": [
        "## will not print:\n",
        "if (FALSE) {\n",
        "\n",
        "par(mfrow=c(2,3))\n",
        "y <- log_chosen$logSalePrice\n",
        "\n",
        "for (col in 3:ncol(log_chosen)-1) {\n",
        "\t# if (col == \"Id\") {next}\n",
        "\tx <- log_chosen[,col]\n",
        "\t## plotting each graph\n",
        "\tplot(x, y, main=paste0(\"Plot of \", colnames(log_chosen)[col]), xlab=colnames(log_chosen)[col], ylab=\"logSalePrice\")\n",
        "\tmodel <- lm(y ~ x)\n",
        "\tabline(model, col=\"red\")\n",
        "}\n",
        "\n",
        "}\n",
        "\n",
        "\n",
        "## corrplot matrix between all variables\n",
        "# chart.Correlation(log_chosen, histogram='FALSE', pch=19, main=\"Corr Mat Plot\")\n"
      ],
      "metadata": {
        "id": "TqauKw_XdKyx"
      },
      "execution_count": null,
      "outputs": []
    },
    {
      "cell_type": "markdown",
      "source": [
        "# Spearman Correlation"
      ],
      "metadata": {
        "id": "xAfsRgMGJabk"
      }
    },
    {
      "cell_type": "code",
      "source": [
        "## spearman for YearBuilt and two other seemingly related variables\n",
        "cor.test(log_chosen$YearBuilt, log_chosen$logGarageArea, method=\"spearman\")\n",
        "cor.test(log_chosen$YearBuilt, log_chosen$logTotalBsmtSF, method=\"spearman\")\n",
        "\n",
        "## spearman for YearBuilt vs logSalePrice\n",
        "spear <- cor.test(log_chosen$YearBuilt, log_chosen$logSalePrice, method = \"spearman\")\n",
        "print(spear)\n",
        "\n",
        "## plotting above correlation\n",
        "## will not print\n",
        "if(FALSE) {\n",
        "par(mfrow=c(1,1))\n",
        "ggplot(log_chosen, aes(x=YearBuilt, y=logSalePrice)) +\n",
        "\tgeom_point() + stat_smooth(method=\"lm\", formula=y~x, se=FALSE) +\n",
        "\tstat_cor(method=\"spearman\", label.x=1973, label.y=11.5, size=5, color=\"blue\") +\n",
        "\tlabs(title=\"Scatterplot of logSalePrice and YearBuilt with Spearman Correlation Coefficient\")\n",
        "}\n"
      ],
      "metadata": {
        "id": "ebUDP_6QJdjm",
        "colab": {
          "base_uri": "https://localhost:8080/",
          "height": 644
        },
        "outputId": "f6b344a9-10c6-43d0-d77d-1e27f15c509c"
      },
      "execution_count": null,
      "outputs": [
        {
          "output_type": "stream",
          "name": "stderr",
          "text": [
            "Warning message in cor.test.default(log_chosen$YearBuilt, log_chosen$logGarageArea, :\n",
            "“Cannot compute exact p-value with ties”\n"
          ]
        },
        {
          "output_type": "display_data",
          "data": {
            "text/plain": [
              "\n",
              "\tSpearman's rank correlation rho\n",
              "\n",
              "data:  log_chosen$YearBuilt and log_chosen$logGarageArea\n",
              "S = 54559966, p-value < 2.2e-16\n",
              "alternative hypothesis: true rho is not equal to 0\n",
              "sample estimates:\n",
              "      rho \n",
              "0.5740688 \n"
            ]
          },
          "metadata": {}
        },
        {
          "output_type": "stream",
          "name": "stderr",
          "text": [
            "Warning message in cor.test.default(log_chosen$YearBuilt, log_chosen$logTotalBsmtSF, :\n",
            "“Cannot compute exact p-value with ties”\n"
          ]
        },
        {
          "output_type": "display_data",
          "data": {
            "text/plain": [
              "\n",
              "\tSpearman's rank correlation rho\n",
              "\n",
              "data:  log_chosen$YearBuilt and log_chosen$logTotalBsmtSF\n",
              "S = 63178883, p-value < 2.2e-16\n",
              "alternative hypothesis: true rho is not equal to 0\n",
              "sample estimates:\n",
              "      rho \n",
              "0.5067838 \n"
            ]
          },
          "metadata": {}
        },
        {
          "output_type": "stream",
          "name": "stderr",
          "text": [
            "Warning message in cor.test.default(log_chosen$YearBuilt, log_chosen$logSalePrice, :\n",
            "“Cannot compute exact p-value with ties”\n"
          ]
        },
        {
          "output_type": "stream",
          "name": "stdout",
          "text": [
            "\n",
            "\tSpearman's rank correlation rho\n",
            "\n",
            "data:  log_chosen$YearBuilt and log_chosen$logSalePrice\n",
            "S = 35409658, p-value < 2.2e-16\n",
            "alternative hypothesis: true rho is not equal to 0\n",
            "sample estimates:\n",
            "      rho \n",
            "0.7235688 \n",
            "\n"
          ]
        }
      ]
    },
    {
      "cell_type": "markdown",
      "source": [
        "# Categorical Data"
      ],
      "metadata": {
        "id": "1Ho8LjcAVRFF"
      }
    },
    {
      "cell_type": "markdown",
      "source": [
        "### MSSubClass"
      ],
      "metadata": {
        "id": "KUhwfC1pJpex"
      }
    },
    {
      "cell_type": "code",
      "source": [
        "## show boxplots without grouping\n",
        "## converting MSSubClass values to \"factor\" data type\n",
        "filtered$MSSubClass <- as.factor(filtered$MSSubClass)\n",
        "\n",
        "par(mfrow=c(1,1))\n",
        "ggplot(filtered, aes(x=MSSubClass, y=logSalePrice)) + geom_boxplot() + xlab(\"MSSubClass\") + ylab(\"logSalePrice\") + theme(axis.text = element_text(size=30), axis.title = element_text(size=25), panel.background = element_rect(fill = \"white\"), panel.border = element_rect(colour = \"black\", fill = NA))\n",
        "\n",
        "\n",
        "## group the subcategories into larger ones\n",
        "\n",
        "\n",
        "## combining the many subcategories of 1story, 2story and Split in MSSubClass\n",
        "filtered$MSSubClass <- as.character(filtered$MSSubClass)\n",
        "for (i in 1:nrow(filtered)) {\n",
        "\t## 1 story, 1.5 story = 1 story\n",
        "\tif (filtered$MSSubClass[i] %in% c(\"20\", \"30\", \"40\", \"45\", \"50\")) {\n",
        "\t\tfiltered$MSSubClass[i] <- \"1story\"\n",
        "\t}\n",
        "\t## 2 story, 2.5 story = 2 story\n",
        "\tif (filtered$MSSubClass[i] %in% c(\"60\", \"70\", \"75\")) {\n",
        "\t\tfiltered$MSSubClass[i] <- \"2story\"\n",
        "\t}\n",
        "\t## Others = Split level\n",
        "\tif (filtered$MSSubClass[i] %in% c(\"80\", \"85\", \"90\")) {\n",
        "\t\tfiltered$MSSubClass[i] <- \"Split\"\n",
        "\t}\n",
        "}\n",
        "\n",
        "\n",
        "head(filtered, 20)\n",
        "nrow(filtered)\n",
        "\n",
        "\n",
        "\n",
        "## Converting MSSubClass values to \"factor\" data type\n",
        "filtered$MSSubClass <- as.factor(filtered$MSSubClass)\n",
        "\n",
        "## box plots of each category's logSalePrice\n",
        "par(mfrow=c(1,1))\n",
        "ggplot(filtered, aes(x=MSSubClass, y=logSalePrice)) + geom_boxplot() + xlab(\"MSSubClass\") + ylab(\"logSalePrice\") + theme(axis.text = element_text(size=30), axis.title = element_text(size=25), panel.background = element_rect(fill = \"white\"), panel.border = element_rect(colour = \"black\", fill = NA))\n",
        "\n",
        "## Are the variances of the subgroups equal?\n",
        "leveneTest(logSalePrice ~ MSSubClass, data=filtered)\n",
        "## extremely small p-value 4.29e-07\n",
        "## variances unequal\n",
        "## no anova\n",
        "## kruskal-wallis instead\n",
        "\n",
        "kw <- kruskal.test(logSalePrice ~ MSSubClass, data=filtered)\n",
        "print(kw)\n",
        "## small p-value 3.372e-07\n",
        "## medians differ between groups\n",
        "\n",
        "## MSSubClass matters in determining SalePrice.\n"
      ],
      "metadata": {
        "id": "s1zSsPg7VTk4",
        "colab": {
          "base_uri": "https://localhost:8080/",
          "height": 1000
        },
        "outputId": "6fe64770-1ba4-4c23-c919-db8e04284a30"
      },
      "execution_count": null,
      "outputs": [
        {
          "output_type": "display_data",
          "data": {
            "text/html": [
              "<table class=\"dataframe\">\n",
              "<caption>A data.frame: 20 × 12</caption>\n",
              "<thead>\n",
              "\t<tr><th></th><th scope=col>Id</th><th scope=col>logLotFrontage</th><th scope=col>logLotArea</th><th scope=col>logGarageArea</th><th scope=col>YearBuilt</th><th scope=col>logTotalBsmtSF</th><th scope=col>logtotalSF</th><th scope=col>logSalePrice</th><th scope=col>LotShape</th><th scope=col>MSSubClass</th><th scope=col>MasVnrType</th><th scope=col>HouseStyle</th></tr>\n",
              "\t<tr><th></th><th scope=col>&lt;int&gt;</th><th scope=col>&lt;dbl&gt;</th><th scope=col>&lt;dbl&gt;</th><th scope=col>&lt;dbl&gt;</th><th scope=col>&lt;int&gt;</th><th scope=col>&lt;dbl&gt;</th><th scope=col>&lt;dbl&gt;</th><th scope=col>&lt;dbl&gt;</th><th scope=col>&lt;chr&gt;</th><th scope=col>&lt;chr&gt;</th><th scope=col>&lt;chr&gt;</th><th scope=col>&lt;chr&gt;</th></tr>\n",
              "</thead>\n",
              "<tbody>\n",
              "\t<tr><th scope=row>1</th><td> 1</td><td>4.174387</td><td>9.041922</td><td>6.306275</td><td>2003</td><td>6.752270</td><td>8.137396</td><td>12.24769</td><td>Reg</td><td>2story</td><td>BrkFace</td><td>2Story</td></tr>\n",
              "\t<tr><th scope=row>2</th><td> 2</td><td>4.382027</td><td>9.169518</td><td>6.131226</td><td>1976</td><td>7.140453</td><td>7.833600</td><td>12.10901</td><td>Reg</td><td>1story</td><td>None   </td><td>1Story</td></tr>\n",
              "\t<tr><th scope=row>3</th><td> 3</td><td>4.219508</td><td>9.328123</td><td>6.410175</td><td>2001</td><td>6.824374</td><td>8.180881</td><td>12.31717</td><td>IR1</td><td>2story</td><td>BrkFace</td><td>2Story</td></tr>\n",
              "\t<tr><th scope=row>4</th><td> 4</td><td>4.094345</td><td>9.164296</td><td>6.464588</td><td>1915</td><td>6.628041</td><td>8.141481</td><td>11.84940</td><td>IR1</td><td>2story</td><td>None   </td><td>2Story</td></tr>\n",
              "\t<tr><th scope=row>5</th><td> 5</td><td>4.430817</td><td>9.565214</td><td>6.728629</td><td>2000</td><td>7.043160</td><td>8.388450</td><td>12.42922</td><td>IR1</td><td>2story</td><td>BrkFace</td><td>2Story</td></tr>\n",
              "\t<tr><th scope=row>6</th><td> 6</td><td>4.442651</td><td>9.554993</td><td>6.173786</td><td>1993</td><td>6.679599</td><td>7.909857</td><td>11.87060</td><td>IR1</td><td>1story</td><td>None   </td><td>1.5Fin</td></tr>\n",
              "\t<tr><th scope=row>7</th><td> 7</td><td>4.317488</td><td>9.218705</td><td>6.455199</td><td>2004</td><td>7.430114</td><td>8.127995</td><td>12.63460</td><td>Reg</td><td>1story</td><td>Stone  </td><td>1Story</td></tr>\n",
              "\t<tr><th scope=row>8</th><td> 9</td><td>3.931826</td><td>8.719317</td><td>6.148468</td><td>1931</td><td>6.858565</td><td>8.174139</td><td>11.77452</td><td>Reg</td><td>1story</td><td>None   </td><td>1.5Fin</td></tr>\n",
              "\t<tr><th scope=row>10</th><td>11</td><td>4.248495</td><td>9.323669</td><td>5.950643</td><td>1965</td><td>6.946976</td><td>7.640123</td><td>11.77144</td><td>Reg</td><td>1story</td><td>None   </td><td>1Story</td></tr>\n",
              "\t<tr><th scope=row>11</th><td>12</td><td>4.442651</td><td>9.386308</td><td>6.601230</td><td>2005</td><td>7.069023</td><td>8.444192</td><td>12.75130</td><td>IR1</td><td>2story</td><td>Stone  </td><td>2Story</td></tr>\n",
              "\t<tr><th scope=row>12</th><td>14</td><td>4.510860</td><td>9.273503</td><td>6.733402</td><td>2006</td><td>7.309212</td><td>8.002360</td><td>12.54076</td><td>IR1</td><td>1story</td><td>Stone  </td><td>1Story</td></tr>\n",
              "\t<tr><th scope=row>13</th><td>16</td><td>3.931826</td><td>8.719317</td><td>6.356108</td><td>1929</td><td>6.723832</td><td>7.443078</td><td>11.79056</td><td>Reg</td><td>1story</td><td>None   </td><td>1.5Unf</td></tr>\n",
              "\t<tr><th scope=row>14</th><td>18</td><td>4.276666</td><td>9.286468</td><td>6.246107</td><td>1967</td><td>    -Inf</td><td>7.860185</td><td>11.40756</td><td>Reg</td><td>Split </td><td>None   </td><td>1Story</td></tr>\n",
              "\t<tr><th scope=row>15</th><td>19</td><td>4.189655</td><td>9.524786</td><td>6.356108</td><td>2004</td><td>7.015712</td><td>7.708860</td><td>11.97666</td><td>Reg</td><td>1story</td><td>None   </td><td>1Story</td></tr>\n",
              "\t<tr><th scope=row>16</th><td>20</td><td>4.248495</td><td>8.930626</td><td>5.683580</td><td>1958</td><td>6.936343</td><td>7.892826</td><td>11.84223</td><td>Reg</td><td>1story</td><td>None   </td><td>1Story</td></tr>\n",
              "\t<tr><th scope=row>17</th><td>21</td><td>4.615121</td><td>9.562053</td><td>6.748760</td><td>2005</td><td>7.054450</td><td>8.466321</td><td>12.69250</td><td>IR1</td><td>2story</td><td>BrkFace</td><td>2Story</td></tr>\n",
              "\t<tr><th scope=row>18</th><td>22</td><td>4.043051</td><td>8.915835</td><td>5.634790</td><td>1930</td><td>6.456770</td><td>7.703459</td><td>11.84510</td><td>Reg</td><td>1story</td><td>None   </td><td>1.5Unf</td></tr>\n",
              "\t<tr><th scope=row>19</th><td>23</td><td>4.317488</td><td>9.184202</td><td>6.280396</td><td>2002</td><td>7.482682</td><td>8.185907</td><td>12.34583</td><td>Reg</td><td>1story</td><td>BrkFace</td><td>1Story</td></tr>\n",
              "\t<tr><th scope=row>21</th><td>26</td><td>4.700480</td><td>9.563108</td><td>6.791221</td><td>2007</td><td>7.356280</td><td>8.070906</td><td>12.45410</td><td>Reg</td><td>1story</td><td>Stone  </td><td>1Story</td></tr>\n",
              "\t<tr><th scope=row>22</th><td>27</td><td>4.094345</td><td>8.881836</td><td>6.356108</td><td>1951</td><td>6.802395</td><td>7.495542</td><td>11.81155</td><td>Reg</td><td>1story</td><td>None   </td><td>1Story</td></tr>\n",
              "</tbody>\n",
              "</table>\n"
            ],
            "text/markdown": "\nA data.frame: 20 × 12\n\n| <!--/--> | Id &lt;int&gt; | logLotFrontage &lt;dbl&gt; | logLotArea &lt;dbl&gt; | logGarageArea &lt;dbl&gt; | YearBuilt &lt;int&gt; | logTotalBsmtSF &lt;dbl&gt; | logtotalSF &lt;dbl&gt; | logSalePrice &lt;dbl&gt; | LotShape &lt;chr&gt; | MSSubClass &lt;chr&gt; | MasVnrType &lt;chr&gt; | HouseStyle &lt;chr&gt; |\n|---|---|---|---|---|---|---|---|---|---|---|---|---|\n| 1 |  1 | 4.174387 | 9.041922 | 6.306275 | 2003 | 6.752270 | 8.137396 | 12.24769 | Reg | 2story | BrkFace | 2Story |\n| 2 |  2 | 4.382027 | 9.169518 | 6.131226 | 1976 | 7.140453 | 7.833600 | 12.10901 | Reg | 1story | None    | 1Story |\n| 3 |  3 | 4.219508 | 9.328123 | 6.410175 | 2001 | 6.824374 | 8.180881 | 12.31717 | IR1 | 2story | BrkFace | 2Story |\n| 4 |  4 | 4.094345 | 9.164296 | 6.464588 | 1915 | 6.628041 | 8.141481 | 11.84940 | IR1 | 2story | None    | 2Story |\n| 5 |  5 | 4.430817 | 9.565214 | 6.728629 | 2000 | 7.043160 | 8.388450 | 12.42922 | IR1 | 2story | BrkFace | 2Story |\n| 6 |  6 | 4.442651 | 9.554993 | 6.173786 | 1993 | 6.679599 | 7.909857 | 11.87060 | IR1 | 1story | None    | 1.5Fin |\n| 7 |  7 | 4.317488 | 9.218705 | 6.455199 | 2004 | 7.430114 | 8.127995 | 12.63460 | Reg | 1story | Stone   | 1Story |\n| 8 |  9 | 3.931826 | 8.719317 | 6.148468 | 1931 | 6.858565 | 8.174139 | 11.77452 | Reg | 1story | None    | 1.5Fin |\n| 10 | 11 | 4.248495 | 9.323669 | 5.950643 | 1965 | 6.946976 | 7.640123 | 11.77144 | Reg | 1story | None    | 1Story |\n| 11 | 12 | 4.442651 | 9.386308 | 6.601230 | 2005 | 7.069023 | 8.444192 | 12.75130 | IR1 | 2story | Stone   | 2Story |\n| 12 | 14 | 4.510860 | 9.273503 | 6.733402 | 2006 | 7.309212 | 8.002360 | 12.54076 | IR1 | 1story | Stone   | 1Story |\n| 13 | 16 | 3.931826 | 8.719317 | 6.356108 | 1929 | 6.723832 | 7.443078 | 11.79056 | Reg | 1story | None    | 1.5Unf |\n| 14 | 18 | 4.276666 | 9.286468 | 6.246107 | 1967 |     -Inf | 7.860185 | 11.40756 | Reg | Split  | None    | 1Story |\n| 15 | 19 | 4.189655 | 9.524786 | 6.356108 | 2004 | 7.015712 | 7.708860 | 11.97666 | Reg | 1story | None    | 1Story |\n| 16 | 20 | 4.248495 | 8.930626 | 5.683580 | 1958 | 6.936343 | 7.892826 | 11.84223 | Reg | 1story | None    | 1Story |\n| 17 | 21 | 4.615121 | 9.562053 | 6.748760 | 2005 | 7.054450 | 8.466321 | 12.69250 | IR1 | 2story | BrkFace | 2Story |\n| 18 | 22 | 4.043051 | 8.915835 | 5.634790 | 1930 | 6.456770 | 7.703459 | 11.84510 | Reg | 1story | None    | 1.5Unf |\n| 19 | 23 | 4.317488 | 9.184202 | 6.280396 | 2002 | 7.482682 | 8.185907 | 12.34583 | Reg | 1story | BrkFace | 1Story |\n| 21 | 26 | 4.700480 | 9.563108 | 6.791221 | 2007 | 7.356280 | 8.070906 | 12.45410 | Reg | 1story | Stone   | 1Story |\n| 22 | 27 | 4.094345 | 8.881836 | 6.356108 | 1951 | 6.802395 | 7.495542 | 11.81155 | Reg | 1story | None    | 1Story |\n\n",
            "text/latex": "A data.frame: 20 × 12\n\\begin{tabular}{r|llllllllllll}\n  & Id & logLotFrontage & logLotArea & logGarageArea & YearBuilt & logTotalBsmtSF & logtotalSF & logSalePrice & LotShape & MSSubClass & MasVnrType & HouseStyle\\\\\n  & <int> & <dbl> & <dbl> & <dbl> & <int> & <dbl> & <dbl> & <dbl> & <chr> & <chr> & <chr> & <chr>\\\\\n\\hline\n\t1 &  1 & 4.174387 & 9.041922 & 6.306275 & 2003 & 6.752270 & 8.137396 & 12.24769 & Reg & 2story & BrkFace & 2Story\\\\\n\t2 &  2 & 4.382027 & 9.169518 & 6.131226 & 1976 & 7.140453 & 7.833600 & 12.10901 & Reg & 1story & None    & 1Story\\\\\n\t3 &  3 & 4.219508 & 9.328123 & 6.410175 & 2001 & 6.824374 & 8.180881 & 12.31717 & IR1 & 2story & BrkFace & 2Story\\\\\n\t4 &  4 & 4.094345 & 9.164296 & 6.464588 & 1915 & 6.628041 & 8.141481 & 11.84940 & IR1 & 2story & None    & 2Story\\\\\n\t5 &  5 & 4.430817 & 9.565214 & 6.728629 & 2000 & 7.043160 & 8.388450 & 12.42922 & IR1 & 2story & BrkFace & 2Story\\\\\n\t6 &  6 & 4.442651 & 9.554993 & 6.173786 & 1993 & 6.679599 & 7.909857 & 11.87060 & IR1 & 1story & None    & 1.5Fin\\\\\n\t7 &  7 & 4.317488 & 9.218705 & 6.455199 & 2004 & 7.430114 & 8.127995 & 12.63460 & Reg & 1story & Stone   & 1Story\\\\\n\t8 &  9 & 3.931826 & 8.719317 & 6.148468 & 1931 & 6.858565 & 8.174139 & 11.77452 & Reg & 1story & None    & 1.5Fin\\\\\n\t10 & 11 & 4.248495 & 9.323669 & 5.950643 & 1965 & 6.946976 & 7.640123 & 11.77144 & Reg & 1story & None    & 1Story\\\\\n\t11 & 12 & 4.442651 & 9.386308 & 6.601230 & 2005 & 7.069023 & 8.444192 & 12.75130 & IR1 & 2story & Stone   & 2Story\\\\\n\t12 & 14 & 4.510860 & 9.273503 & 6.733402 & 2006 & 7.309212 & 8.002360 & 12.54076 & IR1 & 1story & Stone   & 1Story\\\\\n\t13 & 16 & 3.931826 & 8.719317 & 6.356108 & 1929 & 6.723832 & 7.443078 & 11.79056 & Reg & 1story & None    & 1.5Unf\\\\\n\t14 & 18 & 4.276666 & 9.286468 & 6.246107 & 1967 &     -Inf & 7.860185 & 11.40756 & Reg & Split  & None    & 1Story\\\\\n\t15 & 19 & 4.189655 & 9.524786 & 6.356108 & 2004 & 7.015712 & 7.708860 & 11.97666 & Reg & 1story & None    & 1Story\\\\\n\t16 & 20 & 4.248495 & 8.930626 & 5.683580 & 1958 & 6.936343 & 7.892826 & 11.84223 & Reg & 1story & None    & 1Story\\\\\n\t17 & 21 & 4.615121 & 9.562053 & 6.748760 & 2005 & 7.054450 & 8.466321 & 12.69250 & IR1 & 2story & BrkFace & 2Story\\\\\n\t18 & 22 & 4.043051 & 8.915835 & 5.634790 & 1930 & 6.456770 & 7.703459 & 11.84510 & Reg & 1story & None    & 1.5Unf\\\\\n\t19 & 23 & 4.317488 & 9.184202 & 6.280396 & 2002 & 7.482682 & 8.185907 & 12.34583 & Reg & 1story & BrkFace & 1Story\\\\\n\t21 & 26 & 4.700480 & 9.563108 & 6.791221 & 2007 & 7.356280 & 8.070906 & 12.45410 & Reg & 1story & Stone   & 1Story\\\\\n\t22 & 27 & 4.094345 & 8.881836 & 6.356108 & 1951 & 6.802395 & 7.495542 & 11.81155 & Reg & 1story & None    & 1Story\\\\\n\\end{tabular}\n",
            "text/plain": [
              "   Id logLotFrontage logLotArea logGarageArea YearBuilt logTotalBsmtSF\n",
              "1   1 4.174387       9.041922   6.306275      2003      6.752270      \n",
              "2   2 4.382027       9.169518   6.131226      1976      7.140453      \n",
              "3   3 4.219508       9.328123   6.410175      2001      6.824374      \n",
              "4   4 4.094345       9.164296   6.464588      1915      6.628041      \n",
              "5   5 4.430817       9.565214   6.728629      2000      7.043160      \n",
              "6   6 4.442651       9.554993   6.173786      1993      6.679599      \n",
              "7   7 4.317488       9.218705   6.455199      2004      7.430114      \n",
              "8   9 3.931826       8.719317   6.148468      1931      6.858565      \n",
              "10 11 4.248495       9.323669   5.950643      1965      6.946976      \n",
              "11 12 4.442651       9.386308   6.601230      2005      7.069023      \n",
              "12 14 4.510860       9.273503   6.733402      2006      7.309212      \n",
              "13 16 3.931826       8.719317   6.356108      1929      6.723832      \n",
              "14 18 4.276666       9.286468   6.246107      1967          -Inf      \n",
              "15 19 4.189655       9.524786   6.356108      2004      7.015712      \n",
              "16 20 4.248495       8.930626   5.683580      1958      6.936343      \n",
              "17 21 4.615121       9.562053   6.748760      2005      7.054450      \n",
              "18 22 4.043051       8.915835   5.634790      1930      6.456770      \n",
              "19 23 4.317488       9.184202   6.280396      2002      7.482682      \n",
              "21 26 4.700480       9.563108   6.791221      2007      7.356280      \n",
              "22 27 4.094345       8.881836   6.356108      1951      6.802395      \n",
              "   logtotalSF logSalePrice LotShape MSSubClass MasVnrType HouseStyle\n",
              "1  8.137396   12.24769     Reg      2story     BrkFace    2Story    \n",
              "2  7.833600   12.10901     Reg      1story     None       1Story    \n",
              "3  8.180881   12.31717     IR1      2story     BrkFace    2Story    \n",
              "4  8.141481   11.84940     IR1      2story     None       2Story    \n",
              "5  8.388450   12.42922     IR1      2story     BrkFace    2Story    \n",
              "6  7.909857   11.87060     IR1      1story     None       1.5Fin    \n",
              "7  8.127995   12.63460     Reg      1story     Stone      1Story    \n",
              "8  8.174139   11.77452     Reg      1story     None       1.5Fin    \n",
              "10 7.640123   11.77144     Reg      1story     None       1Story    \n",
              "11 8.444192   12.75130     IR1      2story     Stone      2Story    \n",
              "12 8.002360   12.54076     IR1      1story     Stone      1Story    \n",
              "13 7.443078   11.79056     Reg      1story     None       1.5Unf    \n",
              "14 7.860185   11.40756     Reg      Split      None       1Story    \n",
              "15 7.708860   11.97666     Reg      1story     None       1Story    \n",
              "16 7.892826   11.84223     Reg      1story     None       1Story    \n",
              "17 8.466321   12.69250     IR1      2story     BrkFace    2Story    \n",
              "18 7.703459   11.84510     Reg      1story     None       1.5Unf    \n",
              "19 8.185907   12.34583     Reg      1story     BrkFace    1Story    \n",
              "21 8.070906   12.45410     Reg      1story     Stone      1Story    \n",
              "22 7.495542   11.81155     Reg      1story     None       1Story    "
            ]
          },
          "metadata": {}
        },
        {
          "output_type": "display_data",
          "data": {
            "text/html": [
              "971"
            ],
            "text/markdown": "971",
            "text/latex": "971",
            "text/plain": [
              "[1] 971"
            ]
          },
          "metadata": {}
        },
        {
          "output_type": "display_data",
          "data": {
            "text/plain": [
              "plot without title"
            ],
            "image/png": "[encoded data removed]"
          },
          "metadata": {
            "image/png": {
              "width": 420,
              "height": 420
            }
          }
        },
        {
          "output_type": "display_data",
          "data": {
            "text/html": [
              "<table class=\"dataframe\">\n",
              "<caption>A anova: 2 × 3</caption>\n",
              "<thead>\n",
              "\t<tr><th></th><th scope=col>Df</th><th scope=col>F value</th><th scope=col>Pr(&gt;F)</th></tr>\n",
              "\t<tr><th></th><th scope=col>&lt;int&gt;</th><th scope=col>&lt;dbl&gt;</th><th scope=col>&lt;dbl&gt;</th></tr>\n",
              "</thead>\n",
              "<tbody>\n",
              "\t<tr><th scope=row>group</th><td>  2</td><td>14.01431</td><td>1.000263e-06</td></tr>\n",
              "\t<tr><th scope=row> </th><td>968</td><td>      NA</td><td>          NA</td></tr>\n",
              "</tbody>\n",
              "</table>\n"
            ],
            "text/markdown": "\nA anova: 2 × 3\n\n| <!--/--> | Df &lt;int&gt; | F value &lt;dbl&gt; | Pr(&gt;F) &lt;dbl&gt; |\n|---|---|---|---|\n| group |   2 | 14.01431 | 1.000263e-06 |\n| <!----> | 968 |       NA |           NA |\n\n",
            "text/latex": "A anova: 2 × 3\n\\begin{tabular}{r|lll}\n  & Df & F value & Pr(>F)\\\\\n  & <int> & <dbl> & <dbl>\\\\\n\\hline\n\tgroup &   2 & 14.01431 & 1.000263e-06\\\\\n\t  & 968 &       NA &           NA\\\\\n\\end{tabular}\n",
            "text/plain": [
              "      Df  F value  Pr(>F)      \n",
              "group   2 14.01431 1.000263e-06\n",
              "      968       NA           NA"
            ]
          },
          "metadata": {}
        },
        {
          "output_type": "stream",
          "name": "stdout",
          "text": [
            "\n",
            "\tKruskal-Wallis rank sum test\n",
            "\n",
            "data:  logSalePrice by MSSubClass\n",
            "Kruskal-Wallis chi-squared = 154.5, df = 2, p-value < 2.2e-16\n",
            "\n"
          ]
        },
        {
          "output_type": "display_data",
          "data": {
            "text/plain": [
              "plot without title"
            ],
            "image/png": "[encoded data removed]"
          },
          "metadata": {
            "image/png": {
              "width": 420,
              "height": 420
            }
          }
        }
      ]
    },
    {
      "cell_type": "markdown",
      "source": [
        "### MasVnrType"
      ],
      "metadata": {
        "id": "n6Xemow5J09N"
      }
    },
    {
      "cell_type": "code",
      "source": [
        "par(mfrow=c(1,1))\n",
        "ggplot(filtered, aes(x=MasVnrType, y=logSalePrice)) + geom_boxplot() + xlab(\"MasVnrType\") + ylab(\"logSalePrice\") + theme(axis.text = element_text(size=30), axis.title = element_text(size=25), panel.background = element_rect(fill = \"white\"), panel.border = element_rect(colour = \"black\", fill = NA))\n",
        "\n",
        "\n",
        "## grouping brick\n",
        "for (i in 1:nrow(filtered)) {\n",
        "\tif (filtered$MasVnrType[i] %in% c(\"BrkCmn\", \"BrkFace\")) {\n",
        "\t\tfiltered$MasVnrType[i] <- \"Brick\"\n",
        "\t}\n",
        "}\n",
        "\n",
        "## visualizing:\n",
        "par(mfrow=c(1,1))\n",
        "ggplot(filtered, aes(x=MasVnrType, y=logSalePrice)) + geom_boxplot() + xlab(\"MasVnrType\") + ylab(\"logSalePrice\") + theme(axis.text = element_text(size=30), axis.title = element_text(size=25), panel.background = element_rect(fill = \"white\"), panel.border = element_rect(colour = \"black\", fill = NA))\n",
        "\n",
        "\n",
        "## test the variances:\n",
        "### filtered$MasVnrType <- as.factor(filtered$MasVnrType)\n",
        "###leveneTest(logSalePrice ~ MasVnrType, data = filtered)\n",
        "## p-value is 0.1555\n",
        "## variances are not the same\n",
        "##"
      ],
      "metadata": {
        "id": "qST3ZDxUJ1lS",
        "colab": {
          "base_uri": "https://localhost:8080/",
          "height": 857
        },
        "outputId": "c0b9a1a5-3297-4f4b-e43b-f0400fa3c685"
      },
      "execution_count": null,
      "outputs": [
        {
          "output_type": "display_data",
          "data": {
            "text/plain": [
              "plot without title"
            ],
            "image/png": "[encoded data removed]"
          },
          "metadata": {
            "image/png": {
              "width": 420,
              "height": 420
            }
          }
        },
        {
          "output_type": "display_data",
          "data": {
            "text/plain": [
              "plot without title"
            ],
            "image/png": "[encoded data removed]"
          },
          "metadata": {
            "image/png": {
              "width": 420,
              "height": 420
            }
          }
        }
      ]
    },
    {
      "cell_type": "markdown",
      "source": [
        "### LotShape"
      ],
      "metadata": {
        "id": "ttlYiQ9YJ5g7"
      }
    },
    {
      "cell_type": "code",
      "source": [
        "## boxplots before grouping:\n",
        "par(mfrow=c(1,1))\n",
        "ggplot(filtered, aes(x=LotShape, y=logSalePrice)) + geom_boxplot() + xlab(\"LotShape\") + ylab(\"logSalePrice\") + theme(axis.text = element_text(size=30), axis.title = element_text(size=25), panel.background = element_rect(fill = \"white\"), panel.border = element_rect(colour = \"black\", fill = NA))\n",
        "\n",
        "## grouping all irregulars\n",
        "for (i in 1:nrow(filtered)) {\n",
        "\tif (filtered$LotShape[i] %in% c(\"IR1\", \"IR2\", \"IR3\")) {\n",
        "\t\tfiltered$LotShape[i] <- \"IR\"\n",
        "\t}\n",
        "}\n",
        "\n",
        "## visualizing:\n",
        "par(mfrow=c(1,1))\n",
        "ggplot(filtered, aes(x=LotShape, y=logSalePrice)) + geom_boxplot() + xlab(\"LotShape\") + ylab(\"logSalePrice\") + theme(axis.text = element_text(size=30), axis.title = element_text(size=25), panel.background = element_rect(fill = \"white\"), panel.border = element_rect(colour = \"black\", fill = NA))\n",
        "\n",
        "\n",
        "## test the variances:\n",
        "subset_data <- filtered[c(\"logSalePrice\", \"LotShape\")]\n",
        "group1 <- subset_data$logSalePrice[subset_data$LotShape == \"IR\"]\n",
        "group2 <- subset_data$logSalePrice[subset_data$LotShape == \"Reg\"]\n",
        "\n",
        "var.test(group1, group2)\n",
        "## p-value is 0.052\n",
        "## variances almost the same\n",
        "\n",
        "## t-test\n",
        "result <- t.test(group1, group2, var.equal=TRUE)\n",
        "print(result)\n",
        "## small p-value\n",
        "## means are not the the same\n",
        "\n",
        "## LotShape does matter"
      ],
      "metadata": {
        "id": "Ae0hGM6yJ7BG",
        "colab": {
          "base_uri": "https://localhost:8080/",
          "height": 1000
        },
        "outputId": "a855e33b-1d3c-4cff-e3ed-73d7a2dc7632"
      },
      "execution_count": null,
      "outputs": [
        {
          "output_type": "display_data",
          "data": {
            "text/plain": [
              "plot without title"
            ],
            "image/png": "[encoded data removed]"
          },
          "metadata": {
            "image/png": {
              "width": 420,
              "height": 420
            }
          }
        },
        {
          "output_type": "display_data",
          "data": {
            "text/plain": [
              "\n",
              "\tF test to compare two variances\n",
              "\n",
              "data:  group1 and group2\n",
              "F = 0.95899, num df = 303, denom df = 666, p-value = 0.6791\n",
              "alternative hypothesis: true ratio of variances is not equal to 1\n",
              "95 percent confidence interval:\n",
              " 0.7939559 1.1664893\n",
              "sample estimates:\n",
              "ratio of variances \n",
              "         0.9589895 \n"
            ]
          },
          "metadata": {}
        },
        {
          "output_type": "stream",
          "name": "stdout",
          "text": [
            "\n",
            "\tTwo Sample t-test\n",
            "\n",
            "data:  group1 and group2\n",
            "t = 11.043, df = 969, p-value < 2.2e-16\n",
            "alternative hypothesis: true difference in means is not equal to 0\n",
            "95 percent confidence interval:\n",
            " 0.2377060 0.3404453\n",
            "sample estimates:\n",
            "mean of x mean of y \n",
            " 12.25597  11.96689 \n",
            "\n"
          ]
        },
        {
          "output_type": "display_data",
          "data": {
            "text/plain": [
              "plot without title"
            ],
            "image/png": "[encoded data removed]"
          },
          "metadata": {
            "image/png": {
              "width": 420,
              "height": 420
            }
          }
        }
      ]
    },
    {
      "cell_type": "markdown",
      "source": [
        "# HouseStyle"
      ],
      "metadata": {
        "id": "vj5Wj3U50lPv"
      }
    },
    {
      "cell_type": "code",
      "source": [
        "## show boxplots without grouping\n",
        "## converting HouseStyle values to \"factor\" data type\n",
        "filtered$HouseStyle <- as.factor(filtered$HouseStyle)\n",
        "\n",
        "par(mfrow=c(1,1))\n",
        "hstyleplot1 <- ggplot(filtered, aes(x=HouseStyle, y=logSalePrice)) + geom_boxplot() + xlab(\"HouseStyle\") + ylab(\"logSalePrice\") + theme(axis.text = element_text(size=30), axis.title = element_text(size=25), panel.background = element_rect(fill = \"white\"), panel.border = element_rect(colour = \"black\", fill = NA))\n",
        "hstyleplot1 + theme(axis.text = element_text(size = 10))\n",
        "\n",
        "\n",
        "## group the subcategories into larger ones\n",
        "\n",
        "\n",
        "## combining the many subcategories of 1story, 2story and Split in MSSubClass\n",
        "filtered$HouseStyle <- as.character(filtered$HouseStyle)\n",
        "for (i in 1:nrow(filtered)) {\n",
        "\t## 1 story, 1.5 Fin, 1.5 Unf = 1 story\n",
        "\tif (filtered$HouseStyle[i] %in% c(\"1Story\", \"1.5Fin\", \"1.5Unf\")) {\n",
        "\t\tfiltered$HouseStyle[i] <- \"1Floor\"\n",
        "\t}\n",
        "\t## 2 story, 2.5 Fin, 2.5 Unf = 2 story\n",
        "\tif (filtered$HouseStyle[i] %in% c(\"2Story\",\"2.5Fin\",\"2.5Unf\")) {\n",
        "\t\tfiltered$HouseStyle[i] <- \"2Floors\"\n",
        "\t}\n",
        "\t## Others = Split Foyer, Split level\n",
        "\tif (filtered$HouseStyle[i] %in% c(\"SFoyer\", \"SLvl\")) {\n",
        "\t\tfiltered$HouseStyle[i] <- \"SplitFloors\"\n",
        "\t}\n",
        "}\n",
        "\n",
        "\n",
        "head(filtered, 20)\n",
        "nrow(filtered)\n",
        "\n",
        "\n",
        "\n",
        "## Converting MSSubClass values to \"factor\" data type\n",
        "filtered$HouseStyle <- as.factor(filtered$HouseStyle)\n",
        "\n",
        "## box plots of each category's logSalePrice\n",
        "par(mfrow=c(1,1))\n",
        "hstyleplot2 <- ggplot(filtered, aes(x=HouseStyle, y=logSalePrice)) + geom_boxplot() + xlab(\"HouseStyle\") + ylab(\"logSalePrice\") + theme(axis.text = element_text(size=30), axis.title = element_text(size=25), panel.background = element_rect(fill = \"white\"), panel.border = element_rect(colour = \"black\", fill = NA))\n",
        "hstyleplot2 + theme(axis.text = element_text(size = 10))\n",
        "\n",
        "\n",
        "## Are the variances of the subgroups equal?\n",
        "leveneTest(logSalePrice ~ HouseStyle, data=filtered)\n",
        "## extremely small p-value 4.29e-07\n",
        "## variances unequal\n",
        "## no anova\n",
        "## kruskal-wallis instead\n",
        "\n",
        "kw2 <- kruskal.test(logSalePrice ~ HouseStyle, data=filtered)\n",
        "print(kw2)\n",
        "## small p-value 3.372e-07\n",
        "## medians differ between groups\n",
        "\n",
        "## MSSubClass matters in determining SalePrice.\n"
      ],
      "metadata": {
        "colab": {
          "base_uri": "https://localhost:8080/",
          "height": 1000
        },
        "id": "TyshOTIj0lZs",
        "outputId": "3f9946e6-68b7-40fe-e65e-a8b17d1e5a1e"
      },
      "execution_count": null,
      "outputs": [
        {
          "output_type": "display_data",
          "data": {
            "text/html": [
              "<table class=\"dataframe\">\n",
              "<caption>A data.frame: 20 × 12</caption>\n",
              "<thead>\n",
              "\t<tr><th></th><th scope=col>Id</th><th scope=col>logLotFrontage</th><th scope=col>logLotArea</th><th scope=col>logGarageArea</th><th scope=col>YearBuilt</th><th scope=col>logTotalBsmtSF</th><th scope=col>logtotalSF</th><th scope=col>logSalePrice</th><th scope=col>LotShape</th><th scope=col>MSSubClass</th><th scope=col>MasVnrType</th><th scope=col>HouseStyle</th></tr>\n",
              "\t<tr><th></th><th scope=col>&lt;int&gt;</th><th scope=col>&lt;dbl&gt;</th><th scope=col>&lt;dbl&gt;</th><th scope=col>&lt;dbl&gt;</th><th scope=col>&lt;int&gt;</th><th scope=col>&lt;dbl&gt;</th><th scope=col>&lt;dbl&gt;</th><th scope=col>&lt;dbl&gt;</th><th scope=col>&lt;chr&gt;</th><th scope=col>&lt;fct&gt;</th><th scope=col>&lt;chr&gt;</th><th scope=col>&lt;chr&gt;</th></tr>\n",
              "</thead>\n",
              "<tbody>\n",
              "\t<tr><th scope=row>1</th><td> 1</td><td>4.174387</td><td>9.041922</td><td>6.306275</td><td>2003</td><td>6.752270</td><td>8.137396</td><td>12.24769</td><td>Reg</td><td>2story</td><td>Brick</td><td>2Floors</td></tr>\n",
              "\t<tr><th scope=row>2</th><td> 2</td><td>4.382027</td><td>9.169518</td><td>6.131226</td><td>1976</td><td>7.140453</td><td>7.833600</td><td>12.10901</td><td>Reg</td><td>1story</td><td>None </td><td>1Floor </td></tr>\n",
              "\t<tr><th scope=row>3</th><td> 3</td><td>4.219508</td><td>9.328123</td><td>6.410175</td><td>2001</td><td>6.824374</td><td>8.180881</td><td>12.31717</td><td>IR </td><td>2story</td><td>Brick</td><td>2Floors</td></tr>\n",
              "\t<tr><th scope=row>4</th><td> 4</td><td>4.094345</td><td>9.164296</td><td>6.464588</td><td>1915</td><td>6.628041</td><td>8.141481</td><td>11.84940</td><td>IR </td><td>2story</td><td>None </td><td>2Floors</td></tr>\n",
              "\t<tr><th scope=row>5</th><td> 5</td><td>4.430817</td><td>9.565214</td><td>6.728629</td><td>2000</td><td>7.043160</td><td>8.388450</td><td>12.42922</td><td>IR </td><td>2story</td><td>Brick</td><td>2Floors</td></tr>\n",
              "\t<tr><th scope=row>6</th><td> 6</td><td>4.442651</td><td>9.554993</td><td>6.173786</td><td>1993</td><td>6.679599</td><td>7.909857</td><td>11.87060</td><td>IR </td><td>1story</td><td>None </td><td>1Floor </td></tr>\n",
              "\t<tr><th scope=row>7</th><td> 7</td><td>4.317488</td><td>9.218705</td><td>6.455199</td><td>2004</td><td>7.430114</td><td>8.127995</td><td>12.63460</td><td>Reg</td><td>1story</td><td>Stone</td><td>1Floor </td></tr>\n",
              "\t<tr><th scope=row>8</th><td> 9</td><td>3.931826</td><td>8.719317</td><td>6.148468</td><td>1931</td><td>6.858565</td><td>8.174139</td><td>11.77452</td><td>Reg</td><td>1story</td><td>None </td><td>1Floor </td></tr>\n",
              "\t<tr><th scope=row>10</th><td>11</td><td>4.248495</td><td>9.323669</td><td>5.950643</td><td>1965</td><td>6.946976</td><td>7.640123</td><td>11.77144</td><td>Reg</td><td>1story</td><td>None </td><td>1Floor </td></tr>\n",
              "\t<tr><th scope=row>11</th><td>12</td><td>4.442651</td><td>9.386308</td><td>6.601230</td><td>2005</td><td>7.069023</td><td>8.444192</td><td>12.75130</td><td>IR </td><td>2story</td><td>Stone</td><td>2Floors</td></tr>\n",
              "\t<tr><th scope=row>12</th><td>14</td><td>4.510860</td><td>9.273503</td><td>6.733402</td><td>2006</td><td>7.309212</td><td>8.002360</td><td>12.54076</td><td>IR </td><td>1story</td><td>Stone</td><td>1Floor </td></tr>\n",
              "\t<tr><th scope=row>13</th><td>16</td><td>3.931826</td><td>8.719317</td><td>6.356108</td><td>1929</td><td>6.723832</td><td>7.443078</td><td>11.79056</td><td>Reg</td><td>1story</td><td>None </td><td>1Floor </td></tr>\n",
              "\t<tr><th scope=row>14</th><td>18</td><td>4.276666</td><td>9.286468</td><td>6.246107</td><td>1967</td><td>    -Inf</td><td>7.860185</td><td>11.40756</td><td>Reg</td><td>Split </td><td>None </td><td>1Floor </td></tr>\n",
              "\t<tr><th scope=row>15</th><td>19</td><td>4.189655</td><td>9.524786</td><td>6.356108</td><td>2004</td><td>7.015712</td><td>7.708860</td><td>11.97666</td><td>Reg</td><td>1story</td><td>None </td><td>1Floor </td></tr>\n",
              "\t<tr><th scope=row>16</th><td>20</td><td>4.248495</td><td>8.930626</td><td>5.683580</td><td>1958</td><td>6.936343</td><td>7.892826</td><td>11.84223</td><td>Reg</td><td>1story</td><td>None </td><td>1Floor </td></tr>\n",
              "\t<tr><th scope=row>17</th><td>21</td><td>4.615121</td><td>9.562053</td><td>6.748760</td><td>2005</td><td>7.054450</td><td>8.466321</td><td>12.69250</td><td>IR </td><td>2story</td><td>Brick</td><td>2Floors</td></tr>\n",
              "\t<tr><th scope=row>18</th><td>22</td><td>4.043051</td><td>8.915835</td><td>5.634790</td><td>1930</td><td>6.456770</td><td>7.703459</td><td>11.84510</td><td>Reg</td><td>1story</td><td>None </td><td>1Floor </td></tr>\n",
              "\t<tr><th scope=row>19</th><td>23</td><td>4.317488</td><td>9.184202</td><td>6.280396</td><td>2002</td><td>7.482682</td><td>8.185907</td><td>12.34583</td><td>Reg</td><td>1story</td><td>Brick</td><td>1Floor </td></tr>\n",
              "\t<tr><th scope=row>21</th><td>26</td><td>4.700480</td><td>9.563108</td><td>6.791221</td><td>2007</td><td>7.356280</td><td>8.070906</td><td>12.45410</td><td>Reg</td><td>1story</td><td>Stone</td><td>1Floor </td></tr>\n",
              "\t<tr><th scope=row>22</th><td>27</td><td>4.094345</td><td>8.881836</td><td>6.356108</td><td>1951</td><td>6.802395</td><td>7.495542</td><td>11.81155</td><td>Reg</td><td>1story</td><td>None </td><td>1Floor </td></tr>\n",
              "</tbody>\n",
              "</table>\n"
            ],
            "text/markdown": "\nA data.frame: 20 × 12\n\n| <!--/--> | Id &lt;int&gt; | logLotFrontage &lt;dbl&gt; | logLotArea &lt;dbl&gt; | logGarageArea &lt;dbl&gt; | YearBuilt &lt;int&gt; | logTotalBsmtSF &lt;dbl&gt; | logtotalSF &lt;dbl&gt; | logSalePrice &lt;dbl&gt; | LotShape &lt;chr&gt; | MSSubClass &lt;fct&gt; | MasVnrType &lt;chr&gt; | HouseStyle &lt;chr&gt; |\n|---|---|---|---|---|---|---|---|---|---|---|---|---|\n| 1 |  1 | 4.174387 | 9.041922 | 6.306275 | 2003 | 6.752270 | 8.137396 | 12.24769 | Reg | 2story | Brick | 2Floors |\n| 2 |  2 | 4.382027 | 9.169518 | 6.131226 | 1976 | 7.140453 | 7.833600 | 12.10901 | Reg | 1story | None  | 1Floor  |\n| 3 |  3 | 4.219508 | 9.328123 | 6.410175 | 2001 | 6.824374 | 8.180881 | 12.31717 | IR  | 2story | Brick | 2Floors |\n| 4 |  4 | 4.094345 | 9.164296 | 6.464588 | 1915 | 6.628041 | 8.141481 | 11.84940 | IR  | 2story | None  | 2Floors |\n| 5 |  5 | 4.430817 | 9.565214 | 6.728629 | 2000 | 7.043160 | 8.388450 | 12.42922 | IR  | 2story | Brick | 2Floors |\n| 6 |  6 | 4.442651 | 9.554993 | 6.173786 | 1993 | 6.679599 | 7.909857 | 11.87060 | IR  | 1story | None  | 1Floor  |\n| 7 |  7 | 4.317488 | 9.218705 | 6.455199 | 2004 | 7.430114 | 8.127995 | 12.63460 | Reg | 1story | Stone | 1Floor  |\n| 8 |  9 | 3.931826 | 8.719317 | 6.148468 | 1931 | 6.858565 | 8.174139 | 11.77452 | Reg | 1story | None  | 1Floor  |\n| 10 | 11 | 4.248495 | 9.323669 | 5.950643 | 1965 | 6.946976 | 7.640123 | 11.77144 | Reg | 1story | None  | 1Floor  |\n| 11 | 12 | 4.442651 | 9.386308 | 6.601230 | 2005 | 7.069023 | 8.444192 | 12.75130 | IR  | 2story | Stone | 2Floors |\n| 12 | 14 | 4.510860 | 9.273503 | 6.733402 | 2006 | 7.309212 | 8.002360 | 12.54076 | IR  | 1story | Stone | 1Floor  |\n| 13 | 16 | 3.931826 | 8.719317 | 6.356108 | 1929 | 6.723832 | 7.443078 | 11.79056 | Reg | 1story | None  | 1Floor  |\n| 14 | 18 | 4.276666 | 9.286468 | 6.246107 | 1967 |     -Inf | 7.860185 | 11.40756 | Reg | Split  | None  | 1Floor  |\n| 15 | 19 | 4.189655 | 9.524786 | 6.356108 | 2004 | 7.015712 | 7.708860 | 11.97666 | Reg | 1story | None  | 1Floor  |\n| 16 | 20 | 4.248495 | 8.930626 | 5.683580 | 1958 | 6.936343 | 7.892826 | 11.84223 | Reg | 1story | None  | 1Floor  |\n| 17 | 21 | 4.615121 | 9.562053 | 6.748760 | 2005 | 7.054450 | 8.466321 | 12.69250 | IR  | 2story | Brick | 2Floors |\n| 18 | 22 | 4.043051 | 8.915835 | 5.634790 | 1930 | 6.456770 | 7.703459 | 11.84510 | Reg | 1story | None  | 1Floor  |\n| 19 | 23 | 4.317488 | 9.184202 | 6.280396 | 2002 | 7.482682 | 8.185907 | 12.34583 | Reg | 1story | Brick | 1Floor  |\n| 21 | 26 | 4.700480 | 9.563108 | 6.791221 | 2007 | 7.356280 | 8.070906 | 12.45410 | Reg | 1story | Stone | 1Floor  |\n| 22 | 27 | 4.094345 | 8.881836 | 6.356108 | 1951 | 6.802395 | 7.495542 | 11.81155 | Reg | 1story | None  | 1Floor  |\n\n",
            "text/latex": "A data.frame: 20 × 12\n\\begin{tabular}{r|llllllllllll}\n  & Id & logLotFrontage & logLotArea & logGarageArea & YearBuilt & logTotalBsmtSF & logtotalSF & logSalePrice & LotShape & MSSubClass & MasVnrType & HouseStyle\\\\\n  & <int> & <dbl> & <dbl> & <dbl> & <int> & <dbl> & <dbl> & <dbl> & <chr> & <fct> & <chr> & <chr>\\\\\n\\hline\n\t1 &  1 & 4.174387 & 9.041922 & 6.306275 & 2003 & 6.752270 & 8.137396 & 12.24769 & Reg & 2story & Brick & 2Floors\\\\\n\t2 &  2 & 4.382027 & 9.169518 & 6.131226 & 1976 & 7.140453 & 7.833600 & 12.10901 & Reg & 1story & None  & 1Floor \\\\\n\t3 &  3 & 4.219508 & 9.328123 & 6.410175 & 2001 & 6.824374 & 8.180881 & 12.31717 & IR  & 2story & Brick & 2Floors\\\\\n\t4 &  4 & 4.094345 & 9.164296 & 6.464588 & 1915 & 6.628041 & 8.141481 & 11.84940 & IR  & 2story & None  & 2Floors\\\\\n\t5 &  5 & 4.430817 & 9.565214 & 6.728629 & 2000 & 7.043160 & 8.388450 & 12.42922 & IR  & 2story & Brick & 2Floors\\\\\n\t6 &  6 & 4.442651 & 9.554993 & 6.173786 & 1993 & 6.679599 & 7.909857 & 11.87060 & IR  & 1story & None  & 1Floor \\\\\n\t7 &  7 & 4.317488 & 9.218705 & 6.455199 & 2004 & 7.430114 & 8.127995 & 12.63460 & Reg & 1story & Stone & 1Floor \\\\\n\t8 &  9 & 3.931826 & 8.719317 & 6.148468 & 1931 & 6.858565 & 8.174139 & 11.77452 & Reg & 1story & None  & 1Floor \\\\\n\t10 & 11 & 4.248495 & 9.323669 & 5.950643 & 1965 & 6.946976 & 7.640123 & 11.77144 & Reg & 1story & None  & 1Floor \\\\\n\t11 & 12 & 4.442651 & 9.386308 & 6.601230 & 2005 & 7.069023 & 8.444192 & 12.75130 & IR  & 2story & Stone & 2Floors\\\\\n\t12 & 14 & 4.510860 & 9.273503 & 6.733402 & 2006 & 7.309212 & 8.002360 & 12.54076 & IR  & 1story & Stone & 1Floor \\\\\n\t13 & 16 & 3.931826 & 8.719317 & 6.356108 & 1929 & 6.723832 & 7.443078 & 11.79056 & Reg & 1story & None  & 1Floor \\\\\n\t14 & 18 & 4.276666 & 9.286468 & 6.246107 & 1967 &     -Inf & 7.860185 & 11.40756 & Reg & Split  & None  & 1Floor \\\\\n\t15 & 19 & 4.189655 & 9.524786 & 6.356108 & 2004 & 7.015712 & 7.708860 & 11.97666 & Reg & 1story & None  & 1Floor \\\\\n\t16 & 20 & 4.248495 & 8.930626 & 5.683580 & 1958 & 6.936343 & 7.892826 & 11.84223 & Reg & 1story & None  & 1Floor \\\\\n\t17 & 21 & 4.615121 & 9.562053 & 6.748760 & 2005 & 7.054450 & 8.466321 & 12.69250 & IR  & 2story & Brick & 2Floors\\\\\n\t18 & 22 & 4.043051 & 8.915835 & 5.634790 & 1930 & 6.456770 & 7.703459 & 11.84510 & Reg & 1story & None  & 1Floor \\\\\n\t19 & 23 & 4.317488 & 9.184202 & 6.280396 & 2002 & 7.482682 & 8.185907 & 12.34583 & Reg & 1story & Brick & 1Floor \\\\\n\t21 & 26 & 4.700480 & 9.563108 & 6.791221 & 2007 & 7.356280 & 8.070906 & 12.45410 & Reg & 1story & Stone & 1Floor \\\\\n\t22 & 27 & 4.094345 & 8.881836 & 6.356108 & 1951 & 6.802395 & 7.495542 & 11.81155 & Reg & 1story & None  & 1Floor \\\\\n\\end{tabular}\n",
            "text/plain": [
              "   Id logLotFrontage logLotArea logGarageArea YearBuilt logTotalBsmtSF\n",
              "1   1 4.174387       9.041922   6.306275      2003      6.752270      \n",
              "2   2 4.382027       9.169518   6.131226      1976      7.140453      \n",
              "3   3 4.219508       9.328123   6.410175      2001      6.824374      \n",
              "4   4 4.094345       9.164296   6.464588      1915      6.628041      \n",
              "5   5 4.430817       9.565214   6.728629      2000      7.043160      \n",
              "6   6 4.442651       9.554993   6.173786      1993      6.679599      \n",
              "7   7 4.317488       9.218705   6.455199      2004      7.430114      \n",
              "8   9 3.931826       8.719317   6.148468      1931      6.858565      \n",
              "10 11 4.248495       9.323669   5.950643      1965      6.946976      \n",
              "11 12 4.442651       9.386308   6.601230      2005      7.069023      \n",
              "12 14 4.510860       9.273503   6.733402      2006      7.309212      \n",
              "13 16 3.931826       8.719317   6.356108      1929      6.723832      \n",
              "14 18 4.276666       9.286468   6.246107      1967          -Inf      \n",
              "15 19 4.189655       9.524786   6.356108      2004      7.015712      \n",
              "16 20 4.248495       8.930626   5.683580      1958      6.936343      \n",
              "17 21 4.615121       9.562053   6.748760      2005      7.054450      \n",
              "18 22 4.043051       8.915835   5.634790      1930      6.456770      \n",
              "19 23 4.317488       9.184202   6.280396      2002      7.482682      \n",
              "21 26 4.700480       9.563108   6.791221      2007      7.356280      \n",
              "22 27 4.094345       8.881836   6.356108      1951      6.802395      \n",
              "   logtotalSF logSalePrice LotShape MSSubClass MasVnrType HouseStyle\n",
              "1  8.137396   12.24769     Reg      2story     Brick      2Floors   \n",
              "2  7.833600   12.10901     Reg      1story     None       1Floor    \n",
              "3  8.180881   12.31717     IR       2story     Brick      2Floors   \n",
              "4  8.141481   11.84940     IR       2story     None       2Floors   \n",
              "5  8.388450   12.42922     IR       2story     Brick      2Floors   \n",
              "6  7.909857   11.87060     IR       1story     None       1Floor    \n",
              "7  8.127995   12.63460     Reg      1story     Stone      1Floor    \n",
              "8  8.174139   11.77452     Reg      1story     None       1Floor    \n",
              "10 7.640123   11.77144     Reg      1story     None       1Floor    \n",
              "11 8.444192   12.75130     IR       2story     Stone      2Floors   \n",
              "12 8.002360   12.54076     IR       1story     Stone      1Floor    \n",
              "13 7.443078   11.79056     Reg      1story     None       1Floor    \n",
              "14 7.860185   11.40756     Reg      Split      None       1Floor    \n",
              "15 7.708860   11.97666     Reg      1story     None       1Floor    \n",
              "16 7.892826   11.84223     Reg      1story     None       1Floor    \n",
              "17 8.466321   12.69250     IR       2story     Brick      2Floors   \n",
              "18 7.703459   11.84510     Reg      1story     None       1Floor    \n",
              "19 8.185907   12.34583     Reg      1story     Brick      1Floor    \n",
              "21 8.070906   12.45410     Reg      1story     Stone      1Floor    \n",
              "22 7.495542   11.81155     Reg      1story     None       1Floor    "
            ]
          },
          "metadata": {}
        },
        {
          "output_type": "display_data",
          "data": {
            "text/html": [
              "971"
            ],
            "text/markdown": "971",
            "text/latex": "971",
            "text/plain": [
              "[1] 971"
            ]
          },
          "metadata": {}
        },
        {
          "output_type": "display_data",
          "data": {
            "text/plain": [
              "plot without title"
            ],
            "image/png": "[encoded data removed]"
          },
          "metadata": {
            "image/png": {
              "width": 420,
              "height": 420
            }
          }
        },
        {
          "output_type": "display_data",
          "data": {
            "text/html": [
              "<table class=\"dataframe\">\n",
              "<caption>A anova: 2 × 3</caption>\n",
              "<thead>\n",
              "\t<tr><th></th><th scope=col>Df</th><th scope=col>F value</th><th scope=col>Pr(&gt;F)</th></tr>\n",
              "\t<tr><th></th><th scope=col>&lt;int&gt;</th><th scope=col>&lt;dbl&gt;</th><th scope=col>&lt;dbl&gt;</th></tr>\n",
              "</thead>\n",
              "<tbody>\n",
              "\t<tr><th scope=row>group</th><td>  2</td><td>10.88743</td><td>2.108862e-05</td></tr>\n",
              "\t<tr><th scope=row> </th><td>968</td><td>      NA</td><td>          NA</td></tr>\n",
              "</tbody>\n",
              "</table>\n"
            ],
            "text/markdown": "\nA anova: 2 × 3\n\n| <!--/--> | Df &lt;int&gt; | F value &lt;dbl&gt; | Pr(&gt;F) &lt;dbl&gt; |\n|---|---|---|---|\n| group |   2 | 10.88743 | 2.108862e-05 |\n| <!----> | 968 |       NA |           NA |\n\n",
            "text/latex": "A anova: 2 × 3\n\\begin{tabular}{r|lll}\n  & Df & F value & Pr(>F)\\\\\n  & <int> & <dbl> & <dbl>\\\\\n\\hline\n\tgroup &   2 & 10.88743 & 2.108862e-05\\\\\n\t  & 968 &       NA &           NA\\\\\n\\end{tabular}\n",
            "text/plain": [
              "      Df  F value  Pr(>F)      \n",
              "group   2 10.88743 2.108862e-05\n",
              "      968       NA           NA"
            ]
          },
          "metadata": {}
        },
        {
          "output_type": "stream",
          "name": "stdout",
          "text": [
            "\n",
            "\tKruskal-Wallis rank sum test\n",
            "\n",
            "data:  logSalePrice by HouseStyle\n",
            "Kruskal-Wallis chi-squared = 136.72, df = 2, p-value < 2.2e-16\n",
            "\n"
          ]
        },
        {
          "output_type": "display_data",
          "data": {
            "text/plain": [
              "plot without title"
            ],
            "image/png": "[encoded data removed]"
          },
          "metadata": {
            "image/png": {
              "width": 420,
              "height": 420
            }
          }
        }
      ]
    },
    {
      "cell_type": "markdown",
      "source": [
        "# **Q3. Does the housing price depend on the shape of the house/property?**"
      ],
      "metadata": {
        "id": "W_SrYsyYW1x9"
      }
    },
    {
      "cell_type": "code",
      "source": [
        "# categorise the data into Regular (\"Reg\") and Irregular (\"IR1\", \"IR2\", \"IR3\") shapes\n",
        "LotShape_category <- ifelse(data$LotShape == \"Reg\", \"Regular\", \"Irregular\")\n",
        "table(LotShape_category)"
      ],
      "metadata": {
        "id": "L2y2zdc-lMHE",
        "colab": {
          "base_uri": "https://localhost:8080/",
          "height": 72
        },
        "outputId": "c0c05d40-6bef-4d96-8066-48fb184789a5"
      },
      "execution_count": null,
      "outputs": [
        {
          "output_type": "display_data",
          "data": {
            "text/plain": [
              "LotShape_category\n",
              "Irregular   Regular \n",
              "      535       925 "
            ]
          },
          "metadata": {}
        }
      ]
    },
    {
      "cell_type": "markdown",
      "source": [
        "We can see that there are 925 regular shaped lots and 535 irregular (including slightly or moderately) shaped lots."
      ],
      "metadata": {
        "id": "x6WE3GqNnTK6"
      }
    },
    {
      "cell_type": "code",
      "source": [
        "q <- qnorm((rank(data$LotShape) - 0.5) / length(data$LotShape))\n",
        "\n",
        "ggplot(data.frame(x = q, y = data$LotShape), aes(x = x, y = y)) +\n",
        "  geom_point() +\n",
        "  stat_smooth(method = \"lm\") +\n",
        "  xlab(\"Theoretical quantiles\") +\n",
        "  ylab(\"Observed quantiles\") +\n",
        "  ggtitle(\"Normal Probability Plot for Categorical Data\")"
      ],
      "metadata": {
        "id": "QO8Rg7PCW1Dy",
        "colab": {
          "base_uri": "https://localhost:8080/",
          "height": 455
        },
        "outputId": "cff79483-d211-4218-d715-b16776dbfc3b"
      },
      "execution_count": null,
      "outputs": [
        {
          "output_type": "stream",
          "name": "stderr",
          "text": [
            "\u001b[1m\u001b[22m`geom_smooth()` using formula = 'y ~ x'\n"
          ]
        },
        {
          "output_type": "display_data",
          "data": {
            "text/plain": [
              "plot without title"
            ],
            "image/png": "[encoded data removed]"
          },
          "metadata": {
            "image/png": {
              "width": 420,
              "height": 420
            }
          }
        }
      ]
    },
    {
      "cell_type": "markdown",
      "source": [
        "## Relation between Sale Price and Veneer type"
      ],
      "metadata": {
        "id": "7aUFxXtNYecM"
      }
    },
    {
      "cell_type": "code",
      "source": [
        "## check assumptions of anova\n",
        "\n",
        "#1. Normality\n",
        "# The dependent variable (logSalePrice) should be approximately normally distributed in each group\n",
        "par(mfrow=c(1,3), mar=c(4,4,2,2))\n",
        "hist(filtered$logSalePrice[filtered$MasVnrType == \"Brick\"], main= \"Distribution of Veneer Type- Brick\", xlab=\"Brick\")\n",
        "\n",
        "hist(filtered$logSalePrice[filtered$MasVnrType == \"Stone\"], main= \"Distribution of Veneer Type- Stone\", xlab=\"Stone\")\n",
        "\n",
        "hist(filtered$logSalePrice[filtered$MasVnrType == \"None\"], main= \"Distribution of Veneer Type- None\", xlab=\"None\")\n",
        "\n",
        "#2. Homogeneity of Variance\n",
        "# The variance of the dependent variable should be approximately equal across all groups.\n",
        "par(mfrow=c(1,1), mar=c(4,4,4,4))\n",
        "boxplot(filtered$logSalePrice~filtered$MasVnrType, main=\"Boxplot of logSalePrice and each Veneer Type\", xlab=\"Category\", ylab=\"logSalePrice\")\n",
        "\n",
        "#3. Independence\n",
        "## The observations within each group are independent of each other\n",
        "\n",
        "#4. Normality of Residuals\n",
        "# Fit ANOVA model\n",
        "spveneer_linreg <- lm(logSalePrice ~ factor(MasVnrType), data = filtered)\n",
        "# Check normality of residuals\n",
        "resid <- residuals(spveneer_linreg)\n",
        "#qqplot: if approximately straight line then residuals are normally distributed\n",
        "qqnorm(resid, xlab = \"Expected Values\", ylab = \"Observed Values\")\n",
        "qqline(resid)\n"
      ],
      "metadata": {
        "colab": {
          "base_uri": "https://localhost:8080/",
          "height": 1000
        },
        "id": "r5pLjd_VYudl",
        "outputId": "04603747-6db0-498c-db75-0eb81138779f"
      },
      "execution_count": null,
      "outputs": [
        {
          "output_type": "display_data",
          "data": {
            "text/plain": [
              "Plot with title “Distribution of Veneer Type- None”"
            ],
            "image/png": "[encoded data removed]"
          },
          "metadata": {
            "image/png": {
              "width": 420,
              "height": 420
            }
          }
        },
        {
          "output_type": "display_data",
          "data": {
            "text/plain": [
              "Plot with title “Boxplot of logSalePrice and each Veneer Type”"
            ],
            "image/png": "[encoded data removed]"
          },
          "metadata": {
            "image/png": {
              "width": 420,
              "height": 420
            }
          }
        },
        {
          "output_type": "display_data",
          "data": {
            "text/plain": [
              "Plot with title “Normal Q-Q Plot”"
            ],
            "image/png": "[encoded data removed]"
          },
          "metadata": {
            "image/png": {
              "width": 420,
              "height": 420
            }
          }
        }
      ]
    },
    {
      "cell_type": "code",
      "source": [
        "# performing anova test on logSalePrice and MasVnrType\n",
        "anova1 <- aov(logSalePrice ~ MasVnrType, data = filtered)\n",
        "summary(anova1)"
      ],
      "metadata": {
        "colab": {
          "base_uri": "https://localhost:8080/",
          "height": 109
        },
        "id": "8CAg96N5cufq",
        "outputId": "e24433e6-9595-4b70-d904-e6318731d886"
      },
      "execution_count": null,
      "outputs": [
        {
          "output_type": "display_data",
          "data": {
            "text/plain": [
              "             Df Sum Sq Mean Sq F value Pr(>F)    \n",
              "MasVnrType    2  39.26  19.631   162.6 <2e-16 ***\n",
              "Residuals   968 116.84   0.121                   \n",
              "---\n",
              "Signif. codes:  0 ‘***’ 0.001 ‘**’ 0.01 ‘*’ 0.05 ‘.’ 0.1 ‘ ’ 1"
            ]
          },
          "metadata": {}
        }
      ]
    },
    {
      "cell_type": "code",
      "source": [
        "# pairwise t-test to identify where the differences are\n",
        "pairwise.t.test(filtered$logSalePrice, filtered$MasVnrType, p.adjust.method = \"bonferroni\")"
      ],
      "metadata": {
        "colab": {
          "base_uri": "https://localhost:8080/",
          "height": 202
        },
        "id": "oNsFb3NRmLws",
        "outputId": "c5567514-c1c9-41d9-bca7-1247c5351742"
      },
      "execution_count": null,
      "outputs": [
        {
          "output_type": "display_data",
          "data": {
            "text/plain": [
              "\n",
              "\tPairwise comparisons using t tests with pooled SD \n",
              "\n",
              "data:  filtered$logSalePrice and filtered$MasVnrType \n",
              "\n",
              "      Brick   None   \n",
              "None  < 2e-16 -      \n",
              "Stone 1.8e-12 < 2e-16\n",
              "\n",
              "P value adjustment method: bonferroni "
            ]
          },
          "metadata": {}
        }
      ]
    },
    {
      "cell_type": "markdown",
      "source": [],
      "metadata": {
        "id": "3zVXKvs95adt"
      }
    },
    {
      "cell_type": "code",
      "source": [
        "#1. Normality\n",
        "# The dependent variable (logSalePrice) should be approximately normally distributed in each group\n",
        "par(mfrow=c(1,3), mar=c(5,5,2,2))\n",
        "hist(filtered$logSalePrice[filtered$MSSubClass == \"1story\"], main= \"Distribution of MSSubClass- 1 Storey\", xlab=\"1 Storey\")\n",
        "\n",
        "hist(filtered$logSalePrice[filtered$MSSubClass == \"2story\"], main= \"Distribution of MSSubClass- 2 Storey\", xlab=\"2 Storey\")\n",
        "\n",
        "hist(filtered$logSalePrice[filtered$MSSubClass == \"Split\"], main= \"Distribution of MSSubClass- Split\", xlab=\"Split\")\n",
        "\n",
        "#2. Homogeneity of Variance\n",
        "# The variance of the dependent variable should be approximately equal across all groups.\n",
        "par(mfrow=c(1,1), mar=c(4,4,4,4))\n",
        "boxplot(filtered$logSalePrice~filtered$MSSubClass, main=\"Boxplot of logSalePrice and each MSSubClass\", xlab=\"Category\", ylab=\"logSalePrice\")\n",
        "\n",
        "#3. Independence\n",
        "## The observations within each group are independent of each other\n",
        "\n",
        "#4. Normality of Residuals\n",
        "# Fit ANOVA model\n",
        "spveneer_linreg <- lm(logSalePrice ~ factor(MSSubClass), data = filtered)\n",
        "# Check normality of residuals\n",
        "resid <- residuals(spveneer_linreg)\n",
        "#qqplot: if approximately straight line then residuals are normally distributed\n",
        "qqnorm(resid, xlab = \"Expected Values\", ylab = \"Observed Values\")\n",
        "qqline(resid)"
      ],
      "metadata": {
        "colab": {
          "base_uri": "https://localhost:8080/",
          "height": 1000
        },
        "id": "qqxbiL8L5avJ",
        "outputId": "286f0454-d218-4b01-e368-224c1c6e1583"
      },
      "execution_count": null,
      "outputs": [
        {
          "output_type": "display_data",
          "data": {
            "text/plain": [
              "Plot with title “Distribution of MSSubClass- Split”"
            ],
            "image/png": "[encoded data removed]"
          },
          "metadata": {
            "image/png": {
              "width": 420,
              "height": 420
            }
          }
        },
        {
          "output_type": "display_data",
          "data": {
            "text/plain": [
              "Plot with title “Boxplot of logSalePrice and each MSSubClass”"
            ],
            "image/png": "[encoded data removed]"
          },
          "metadata": {
            "image/png": {
              "width": 420,
              "height": 420
            }
          }
        },
        {
          "output_type": "display_data",
          "data": {
            "text/plain": [
              "Plot with title “Normal Q-Q Plot”"
            ],
            "image/png": "[encoded data removed]"
          },
          "metadata": {
            "image/png": {
              "width": 420,
              "height": 420
            }
          }
        }
      ]
    },
    {
      "cell_type": "code",
      "source": [
        "anova2 <- aov(logSalePrice ~ MSSubClass, data = filtered)\n",
        "summary(anova2)"
      ],
      "metadata": {
        "colab": {
          "base_uri": "https://localhost:8080/",
          "height": 109
        },
        "id": "MSWyY83j6Mba",
        "outputId": "8a734137-64e9-45e8-8afb-d6066873dd82"
      },
      "execution_count": null,
      "outputs": [
        {
          "output_type": "display_data",
          "data": {
            "text/plain": [
              "             Df Sum Sq Mean Sq F value Pr(>F)    \n",
              "MSSubClass    2  20.77   10.39   74.29 <2e-16 ***\n",
              "Residuals   968 135.33    0.14                   \n",
              "---\n",
              "Signif. codes:  0 ‘***’ 0.001 ‘**’ 0.01 ‘*’ 0.05 ‘.’ 0.1 ‘ ’ 1"
            ]
          },
          "metadata": {}
        }
      ]
    },
    {
      "cell_type": "code",
      "source": [
        "# pairwise t-test to identify where the differences are\n",
        "pairwise.t.test(filtered$logSalePrice, filtered$MSSubClass, p.adjust.method = \"bonferroni\")"
      ],
      "metadata": {
        "id": "y_5HpVLH4SrO",
        "outputId": "e9a46293-eb1a-44a5-dec2-767285af83bf",
        "colab": {
          "base_uri": "https://localhost:8080/",
          "height": 202
        }
      },
      "execution_count": null,
      "outputs": [
        {
          "output_type": "display_data",
          "data": {
            "text/plain": [
              "\n",
              "\tPairwise comparisons using t tests with pooled SD \n",
              "\n",
              "data:  filtered$logSalePrice and filtered$MSSubClass \n",
              "\n",
              "       1story 2story\n",
              "2story <2e-16 -     \n",
              "Split  0.12   <2e-16\n",
              "\n",
              "P value adjustment method: bonferroni "
            ]
          },
          "metadata": {}
        }
      ]
    }
  ]
}